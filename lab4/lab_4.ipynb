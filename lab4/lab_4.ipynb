{
  "nbformat": 4,
  "nbformat_minor": 0,
  "metadata": {
    "colab": {
      "name": "lab_4.ipynb",
      "provenance": [],
      "collapsed_sections": []
    },
    "kernelspec": {
      "name": "python3",
      "display_name": "Python 3"
    }
  },
  "cells": [
    {
      "cell_type": "markdown",
      "metadata": {
        "id": "ZOiFZimGHmug"
      },
      "source": [
        "# Lab 4 - funkcje i generatory\n",
        "\n",
        "## Funkcje\n",
        "\n",
        "Funkcja to wydzielona część programu przeznaczona do wielokrotnego użytku. Każda funkcja posiada nazwę oraz listę argumenty, które są opcjonalne. Funkcja może wypisywać na ekranie pewne wartości, lub zwracać je \"na zewnątrz\".\n",
        "\n",
        "Przykład funkcji jednoargumentowej, która nie zwraca wartości:"
      ]
    },
    {
      "cell_type": "code",
      "metadata": {
        "id": "sj0m5zJNHjjS"
      },
      "source": [
        "def foo(a):\n",
        "  message = f'wartosc argumentu a wynosi: {a}'\n",
        "  print(message)"
      ],
      "execution_count": null,
      "outputs": []
    },
    {
      "cell_type": "markdown",
      "metadata": {
        "id": "3qzBQMTVJOxx"
      },
      "source": [
        "Funkcję można wywołać za pomocą jej nazwy, przekazując argumenty w nawiasie ()"
      ]
    },
    {
      "cell_type": "code",
      "metadata": {
        "colab": {
          "base_uri": "https://localhost:8080/"
        },
        "id": "fjAK_5_8JMMg",
        "outputId": "e9e8ed1f-7c81-451a-f629-526136e4ca6c"
      },
      "source": [
        "foo(26)"
      ],
      "execution_count": null,
      "outputs": [
        {
          "output_type": "stream",
          "text": [
            "wartosc argumentu a wynosi: 26\n"
          ],
          "name": "stdout"
        }
      ]
    },
    {
      "cell_type": "markdown",
      "metadata": {
        "id": "aQZFrZXfJbY0"
      },
      "source": [
        "Funkcje mogą również zwracać wartości, np. obliczoną wartość wyrażenia arytmetycznego"
      ]
    },
    {
      "cell_type": "code",
      "metadata": {
        "id": "9bZLuet3JaTE"
      },
      "source": [
        "def sum(x, y):\n",
        "  return x + y"
      ],
      "execution_count": null,
      "outputs": []
    },
    {
      "cell_type": "markdown",
      "metadata": {
        "id": "3hLDQy25NDd_"
      },
      "source": [
        "W przypadku funkcji zwracającej wartość, wywołanie należy przypisać do jakiejś zmiennej"
      ]
    },
    {
      "cell_type": "code",
      "metadata": {
        "colab": {
          "base_uri": "https://localhost:8080/"
        },
        "id": "Byof2VgJM8p7",
        "outputId": "ec2a3610-6dae-49d1-8be2-9a63c9de36fa"
      },
      "source": [
        "score = sum(5, 6)\n",
        "\n",
        "print(score)"
      ],
      "execution_count": null,
      "outputs": [
        {
          "output_type": "stream",
          "text": [
            "11\n"
          ],
          "name": "stdout"
        }
      ]
    },
    {
      "cell_type": "markdown",
      "metadata": {
        "id": "FhxRXDLsNuYr"
      },
      "source": [
        "Funkcje mogą również zwracać wiele wartości"
      ]
    },
    {
      "cell_type": "code",
      "metadata": {
        "id": "Q0HdD6y3NBXw"
      },
      "source": [
        "def calc(x, y):\n",
        "  sum = x + y\n",
        "  difference = x - y\n",
        "\n",
        "  return sum, difference"
      ],
      "execution_count": null,
      "outputs": []
    },
    {
      "cell_type": "markdown",
      "metadata": {
        "id": "WO2Uyt7_OV58"
      },
      "source": [
        "Wynikiem funkcji zwracającej wiele wartości będzie krotka"
      ]
    },
    {
      "cell_type": "code",
      "metadata": {
        "colab": {
          "base_uri": "https://localhost:8080/"
        },
        "id": "kz6pDVXLOVPM",
        "outputId": "3e63a5a0-36ed-4445-9ec8-a291ef39eff1"
      },
      "source": [
        "result = calc(10, 5)\n",
        "\n",
        "print(result)\n",
        "print(type(result))"
      ],
      "execution_count": null,
      "outputs": [
        {
          "output_type": "stream",
          "text": [
            "(15, 5)\n",
            "<class 'tuple'>\n"
          ],
          "name": "stdout"
        }
      ]
    },
    {
      "cell_type": "markdown",
      "metadata": {
        "id": "WmtSdGrUOsXX"
      },
      "source": [
        "### Przekazywanie argumentów do funkcji\n",
        "\n",
        "W języku Python argumenty do funkcji można przekazać za pomocą pozycji lub nazwy\n",
        "\n",
        "Przekazywanie argumentów za pomocą pozycji polega na dopasowaniu wartości parametru zgodnie z pozycją w deklaracji funkcji\n",
        "\n"
      ]
    },
    {
      "cell_type": "code",
      "metadata": {
        "id": "BotPb8RfOedX"
      },
      "source": [
        "def foo(x, y, z):\n",
        "  print(f'x: {x}, y: {y}, z: {z}')"
      ],
      "execution_count": null,
      "outputs": []
    },
    {
      "cell_type": "code",
      "metadata": {
        "colab": {
          "base_uri": "https://localhost:8080/"
        },
        "id": "Z44gTM36RaVD",
        "outputId": "39492078-71e9-47cc-b318-73afe4b5ee3d"
      },
      "source": [
        "foo(10, 20, 30)"
      ],
      "execution_count": null,
      "outputs": [
        {
          "output_type": "stream",
          "text": [
            "x: 10, y: 20, z: 30\n"
          ],
          "name": "stdout"
        }
      ]
    },
    {
      "cell_type": "markdown",
      "metadata": {
        "id": "gP4Q1JeARbxC"
      },
      "source": [
        "Argumentom x, y, z zostały przyporządkowane odpowiednio wartości 10, 20, 30 - zgodnie z ich pozycją na liście parametrów w deklaracji funkcji\n",
        "\n",
        "Argumenty do funkcji można również przekazać za pomocą słów kluczowych w postaci (nazwa_argumentu=wartosc), wówczas kolejność przekazanych wartości nie będzie miała znaczenia"
      ]
    },
    {
      "cell_type": "code",
      "metadata": {
        "colab": {
          "base_uri": "https://localhost:8080/"
        },
        "id": "C6I7w_87SFrl",
        "outputId": "56fa6b20-9608-4626-cd95-58bc28b9df1f"
      },
      "source": [
        "foo(z=30, x=10, y=20)"
      ],
      "execution_count": null,
      "outputs": [
        {
          "output_type": "stream",
          "text": [
            "x: 10, y: 20, z: 30\n"
          ],
          "name": "stdout"
        }
      ]
    },
    {
      "cell_type": "markdown",
      "metadata": {
        "id": "vb60cIqPSUAp"
      },
      "source": [
        "Jedną z alternatywnych metod przekazywania argumentów do funkcji jest lista *args. Wówczas wewnątrz funkcji parametry będą znajdowały się w liście o tej samej nazwie. Wykorzystanie listy *args nie stawia ograniczeń w liczbie argumentów przekazywanych do funkcji"
      ]
    },
    {
      "cell_type": "code",
      "metadata": {
        "id": "p9f3tpURSIBL"
      },
      "source": [
        "def foo(a, b, *args):\n",
        "  print(f'a: {a}, b: {b}, argument nr 3: {args[0]}, argument nr 4: {args[1]}, ...')"
      ],
      "execution_count": null,
      "outputs": []
    },
    {
      "cell_type": "markdown",
      "metadata": {
        "id": "e-IlG5MQTz3G"
      },
      "source": [
        "Podczas przekazywania argumentów do funkcji przy użyciu listy *args należy pamiętać o konieczności przekazywania ich pozycyjnie"
      ]
    },
    {
      "cell_type": "code",
      "metadata": {
        "colab": {
          "base_uri": "https://localhost:8080/"
        },
        "id": "V-xC2WMMTyxm",
        "outputId": "8d3d0073-4b51-4ac1-ef8d-1862b0daad9f"
      },
      "source": [
        "foo(10, 20, 30, 40)"
      ],
      "execution_count": null,
      "outputs": [
        {
          "output_type": "stream",
          "text": [
            "a: 10, b: 20, argument nr 3: 30, argument nr 4: 40, ...\n"
          ],
          "name": "stdout"
        }
      ]
    },
    {
      "cell_type": "markdown",
      "metadata": {
        "id": "-JORCYJoULgQ"
      },
      "source": [
        "Kolejną alternatywną metodą przekazywania argumentów do funkcji jest słownik **kwargs, który podobnie jak lista *args, nie stawia ograniczeń w liczbie parametrów przekazywanych do funkcji"
      ]
    },
    {
      "cell_type": "code",
      "metadata": {
        "id": "aTLw4nPuUANz"
      },
      "source": [
        "def foo(x, **kwargs):\n",
        "  print(f'x: {x}, y: {kwargs[\"y\"]}, z: {kwargs[\"z\"]}')"
      ],
      "execution_count": null,
      "outputs": []
    },
    {
      "cell_type": "markdown",
      "metadata": {
        "id": "nOfcxdzmVGai"
      },
      "source": [
        "Podczas przekazywania argumentów do funkcji przy użyciu słownika **kwargs należy pamiętać o konieczności przekazywania ich za pomocą nazwy"
      ]
    },
    {
      "cell_type": "code",
      "metadata": {
        "colab": {
          "base_uri": "https://localhost:8080/"
        },
        "id": "PqPaZojgUEBv",
        "outputId": "8f29db1a-b51b-4fa0-c182-e7a988ca17a2"
      },
      "source": [
        "foo(x=20, z=9, y=6)"
      ],
      "execution_count": null,
      "outputs": [
        {
          "output_type": "stream",
          "text": [
            "x: 20, y: 6, z: 9\n"
          ],
          "name": "stdout"
        }
      ]
    },
    {
      "cell_type": "markdown",
      "metadata": {
        "id": "1ISbobHUVjWQ"
      },
      "source": [
        "Zarówno lista *args, jak i słownik **kwargs nie są nazwami wymaganymi do spełnienia swojej funkcjonalności. Warto jednak trzymać się dobrych praktyk. \n",
        "\n",
        "Znak * przed nazwą argumentu wskazuje, że znajduje się tam lista parametrów, a znak ** wskazuje, że znajduje się tam słownik nazwanych argumentów\n",
        "\n",
        "### Wartości domyślne argumentów\n",
        "\n",
        "Argumentom funkcji można również nadać wartości domyślne, wówczas w przypadku braku pojawienia się wartości takiego parametru, zostanie użyta wartość domyślna. W przypadku wykorzystania wartości domyślnej przy wywołaniu funkcji należy pamiętać o przekazywaniu argumentów za pomocą nazw. Nie każdy argument musi mieć nadaną wartość domyślną, lecz w takiej sytuacji należy pamiętać o uzupełnieniu wszystkich wymaganych wartości."
      ]
    },
    {
      "cell_type": "markdown",
      "metadata": {
        "id": "j5dJ00YbWuNr"
      },
      "source": [
        "Przykładowe wywołanie funkcji bez użycia wartości domyślnych argumentów"
      ]
    },
    {
      "cell_type": "code",
      "metadata": {
        "colab": {
          "base_uri": "https://localhost:8080/"
        },
        "id": "SU7tF_zbWm48",
        "outputId": "dd4f42e7-e45d-4b00-85e5-87a5aa686edf"
      },
      "source": [
        "foo(100, 200, 300)"
      ],
      "execution_count": null,
      "outputs": [
        {
          "output_type": "stream",
          "text": [
            "x: 100, y: 200, z: 300\n"
          ],
          "name": "stdout"
        }
      ]
    },
    {
      "cell_type": "markdown",
      "metadata": {
        "id": "5c5w35HkWs3w"
      },
      "source": [
        "Przykładowe wywołanie funkcji z wykorzystaniem wartości domyślnych dwóch argumentów"
      ]
    },
    {
      "cell_type": "code",
      "metadata": {
        "colab": {
          "base_uri": "https://localhost:8080/"
        },
        "id": "rCXHteLXWp-M",
        "outputId": "ba47405b-b0ed-49ac-80ae-7a810caad11c"
      },
      "source": [
        "foo(x=5)"
      ],
      "execution_count": null,
      "outputs": [
        {
          "output_type": "stream",
          "text": [
            "x: 5, y: 20, z: 30\n"
          ],
          "name": "stdout"
        }
      ]
    },
    {
      "cell_type": "markdown",
      "metadata": {
        "id": "8zYlGG_3XJZN"
      },
      "source": [
        "Przykładowe wywołanie funkcji z wykorzystaniem wartości domyślnych wszystkich argumentów"
      ]
    },
    {
      "cell_type": "code",
      "metadata": {
        "colab": {
          "base_uri": "https://localhost:8080/"
        },
        "id": "M7CqVM7QXIOk",
        "outputId": "4f8ea16a-5bc2-4bba-b24e-2b78fbf7fdc9"
      },
      "source": [
        "foo()"
      ],
      "execution_count": null,
      "outputs": [
        {
          "output_type": "stream",
          "text": [
            "x: 10, y: 20, z: 30\n"
          ],
          "name": "stdout"
        }
      ]
    },
    {
      "cell_type": "markdown",
      "metadata": {
        "id": "z-d7_EYpXrGE"
      },
      "source": [
        "### Typowanie funkcji\n",
        "\n",
        "Funkcje i ich parametry, tak samo jak klasyczne zmiennej, mogą mieć nadane adnotacje typów. \n",
        "\n",
        "Przykładowa funkcja przyjmująca dwa argumenty oznaczone jako tekst i liczba całkowita, zwracająca tekst. Argumenty funkcji mają nadane dodatkowo wartości domyślne."
      ]
    },
    {
      "cell_type": "code",
      "metadata": {
        "id": "39I491FyXS7a"
      },
      "source": [
        "def get_message(name: str = 'Janusz', amount: int = 5) -> str:\n",
        "  message: str = f'{name} ma {amount} jablek'\n",
        "\n",
        "  return message"
      ],
      "execution_count": null,
      "outputs": []
    },
    {
      "cell_type": "code",
      "metadata": {
        "colab": {
          "base_uri": "https://localhost:8080/"
        },
        "id": "3823_gL8YaQ8",
        "outputId": "268b429f-32c1-4a2a-911a-fcd6109654b5"
      },
      "source": [
        "message: str = get_message('Czeslaw', 10)\n",
        "\n",
        "print(message)"
      ],
      "execution_count": null,
      "outputs": [
        {
          "output_type": "stream",
          "text": [
            "Czeslaw ma 10 jablek\n"
          ],
          "name": "stdout"
        }
      ]
    },
    {
      "cell_type": "code",
      "metadata": {
        "colab": {
          "base_uri": "https://localhost:8080/"
        },
        "id": "XUzjqc8aYyMK",
        "outputId": "059a608c-5c3a-4cdf-9f80-690c6829f9f0"
      },
      "source": [
        "print(get_message())"
      ],
      "execution_count": null,
      "outputs": [
        {
          "output_type": "stream",
          "text": [
            "Janusz ma 5 jablek\n"
          ],
          "name": "stdout"
        }
      ]
    },
    {
      "cell_type": "markdown",
      "metadata": {
        "id": "JtgV0fdIcqf3"
      },
      "source": [
        "### Zmienne globalne\n",
        "\n",
        "Wewnątrz funkcji istnieje możliwość swobodnego dostępu do zmiennych które zostały zdefiniowane poza funkcją"
      ]
    },
    {
      "cell_type": "code",
      "metadata": {
        "id": "nI6SGkO0c2Du"
      },
      "source": [
        "var: int = 10\n",
        "\n",
        "def foo() -> None: \n",
        "  print(var)"
      ],
      "execution_count": null,
      "outputs": []
    },
    {
      "cell_type": "code",
      "metadata": {
        "colab": {
          "base_uri": "https://localhost:8080/"
        },
        "id": "5xnmz0vrdErW",
        "outputId": "f8ce1306-fd4e-4ff4-cb9c-5af14fcd09c2"
      },
      "source": [
        "foo()"
      ],
      "execution_count": null,
      "outputs": [
        {
          "output_type": "stream",
          "text": [
            "10\n"
          ],
          "name": "stdout"
        }
      ]
    },
    {
      "cell_type": "markdown",
      "metadata": {
        "id": "CFXQ8qqQdEPF"
      },
      "source": [
        "Wewnątrz funkcji istnieje również możliwość modyfikacji zmiennych zdefiniowanych na zewnątrz. Taką zmienną należy wówczas oznaczyć jako globalną słowem kluczowym global. W przeciwnym wypadku wewnątrz funkcji zostanie utworzona nowa zmienna o takiej samej nazwie i o zasięgu lokalnym"
      ]
    },
    {
      "cell_type": "code",
      "metadata": {
        "id": "U4Hj6PpNdScZ"
      },
      "source": [
        "var: int = 10\n",
        "\n",
        "def foo() -> None:\n",
        "  global var  \n",
        "  var = 20  "
      ],
      "execution_count": null,
      "outputs": []
    },
    {
      "cell_type": "code",
      "metadata": {
        "colab": {
          "base_uri": "https://localhost:8080/"
        },
        "id": "D4Kye1ELdW_Z",
        "outputId": "5633a6ef-79cc-4638-c7ab-d95b14296197"
      },
      "source": [
        "foo()  \n",
        "\n",
        "print(var)  "
      ],
      "execution_count": null,
      "outputs": [
        {
          "output_type": "stream",
          "text": [
            "20\n"
          ],
          "name": "stdout"
        }
      ]
    },
    {
      "cell_type": "markdown",
      "metadata": {
        "id": "EvZ0MGfRY7Xd"
      },
      "source": [
        "## Funkcje zagnieżdżone\n",
        "\n",
        "Język Python umożliwia zagnieżdżanie funkcji wewnątrz innych funkcji"
      ]
    },
    {
      "cell_type": "code",
      "metadata": {
        "id": "wRJasv4qY1Bp"
      },
      "source": [
        "def foo(x: int, y: int) -> int:\n",
        "  def sum() -> int: \n",
        "    return x + y\n",
        "  \n",
        "  return sum()"
      ],
      "execution_count": null,
      "outputs": []
    },
    {
      "cell_type": "code",
      "metadata": {
        "colab": {
          "base_uri": "https://localhost:8080/"
        },
        "id": "I5U7lGEtcBKX",
        "outputId": "0ac130be-4a1e-44b0-98bc-7e7677327283"
      },
      "source": [
        "foo(20, 30)"
      ],
      "execution_count": null,
      "outputs": [
        {
          "output_type": "execute_result",
          "data": {
            "text/plain": [
              "50"
            ]
          },
          "metadata": {
            "tags": []
          },
          "execution_count": 32
        }
      ]
    },
    {
      "cell_type": "markdown",
      "metadata": {
        "id": "THQ9WywscTjo"
      },
      "source": [
        "Funkcje zagnieżdżone mają również swobodny dostęp do zmiennych zdefiniowanych o 1 poziom wyżej"
      ]
    },
    {
      "cell_type": "code",
      "metadata": {
        "id": "Z7QvSxIPcCOY"
      },
      "source": [
        "def foo() -> None:\n",
        "  var: int = 10\n",
        "\n",
        "  def foo2() -> None:\n",
        "    print(var)\n",
        "  \n",
        "  foo2()  "
      ],
      "execution_count": null,
      "outputs": []
    },
    {
      "cell_type": "code",
      "metadata": {
        "colab": {
          "base_uri": "https://localhost:8080/"
        },
        "id": "qSsDhjXOeZFF",
        "outputId": "f5dfb147-00a6-4386-bb2c-4083574bc89a"
      },
      "source": [
        "foo()  "
      ],
      "execution_count": null,
      "outputs": [
        {
          "output_type": "stream",
          "text": [
            "10\n"
          ],
          "name": "stdout"
        }
      ]
    },
    {
      "cell_type": "markdown",
      "metadata": {
        "id": "KTN4bYzRechm"
      },
      "source": [
        "W celu modyfikacji w funkcji zagnieżdżonej zmiennej znajdującej się o 1 poziom wyżej, należy użyć słowa kluczowego nonlocal"
      ]
    },
    {
      "cell_type": "code",
      "metadata": {
        "id": "Ju1519q2ebeQ"
      },
      "source": [
        "def foo() -> None:\n",
        "  var: int = 10  \n",
        "\n",
        "  def foo2() -> None:\n",
        "    nonlocal var  \n",
        "\n",
        "    var = 20\n",
        "  \n",
        "  foo2()  \n",
        "\n",
        "  print(var)  "
      ],
      "execution_count": null,
      "outputs": []
    },
    {
      "cell_type": "code",
      "metadata": {
        "colab": {
          "base_uri": "https://localhost:8080/"
        },
        "id": "4TmKOYxoe49F",
        "outputId": "6b7168fb-c086-4390-b1d6-106f6dcc99e6"
      },
      "source": [
        "foo()  "
      ],
      "execution_count": null,
      "outputs": [
        {
          "output_type": "stream",
          "text": [
            "20\n"
          ],
          "name": "stdout"
        }
      ]
    },
    {
      "cell_type": "markdown",
      "metadata": {
        "id": "XZZ0DCCzgFtG"
      },
      "source": [
        "## Generatory\n",
        "\n",
        "Generator jest klasyczną funkcją, która zwraca wartości sekwencyjnie. Oznacza to, że ta sama funkcja przy kolejnych wywołaniach będzie zwracała inne wartości. Wartości zwracane przez generator można przejrzeć za pomocą dowolnej pętli.\n",
        "\n",
        "Przykładowy generator zwracający 3 kolejne wartości liczbowe"
      ]
    },
    {
      "cell_type": "code",
      "metadata": {
        "id": "WqGjwGjbe509"
      },
      "source": [
        "from typing import Generator\n",
        "\n",
        "\n",
        "def gen() -> Generator[int, None, None]:\n",
        "  yield 1  \n",
        "  yield 2  \n",
        "  yield 3"
      ],
      "execution_count": null,
      "outputs": []
    },
    {
      "cell_type": "markdown",
      "metadata": {
        "id": "p1_qCgGSmxcl"
      },
      "source": [
        "\n",
        "\n",
        "Zmienną generatora tworzymy poprzez wywołanie funkcji generatora"
      ]
    },
    {
      "cell_type": "code",
      "metadata": {
        "id": "5E0xBCclmwpK"
      },
      "source": [
        "from typing import Generator\n",
        "\n",
        "generator: Generator[int, None, None] = gen()"
      ],
      "execution_count": null,
      "outputs": []
    },
    {
      "cell_type": "markdown",
      "metadata": {
        "id": "AdONaYfAnftm"
      },
      "source": [
        "Kolejne wartości zwracane przez generator można uzyskać za pomocą funkcji next() przekazując zmienną generatora jako argument"
      ]
    },
    {
      "cell_type": "code",
      "metadata": {
        "colab": {
          "base_uri": "https://localhost:8080/"
        },
        "id": "JS0FqGoNnBA9",
        "outputId": "49bcb54e-9eb2-4689-d997-239af5e877ff"
      },
      "source": [
        "print(next(generator))  \n",
        "print(next(generator))  \n",
        "print(next(generator))"
      ],
      "execution_count": null,
      "outputs": [
        {
          "output_type": "stream",
          "text": [
            "1\n",
            "2\n",
            "3\n"
          ],
          "name": "stdout"
        }
      ]
    },
    {
      "cell_type": "markdown",
      "metadata": {
        "id": "TSXy7V-7npBO"
      },
      "source": [
        "W przypadku gdy pula wartości generatora zostanie wyczerpana (wywołań funkcji next będzie więcej niż wartości zwracanych w puli generatora) zostanie zgłoszony wyjątek klasy StopIteration"
      ]
    },
    {
      "cell_type": "code",
      "metadata": {
        "colab": {
          "base_uri": "https://localhost:8080/",
          "height": 164
        },
        "id": "K3xuNW8mnlih",
        "outputId": "7c9f4d37-e4b1-4031-9b39-aef4f96c7ecb"
      },
      "source": [
        "next(generator)"
      ],
      "execution_count": null,
      "outputs": [
        {
          "output_type": "error",
          "ename": "StopIteration",
          "evalue": "ignored",
          "traceback": [
            "\u001b[0;31m---------------------------------------------------------------------------\u001b[0m",
            "\u001b[0;31mStopIteration\u001b[0m                             Traceback (most recent call last)",
            "\u001b[0;32m<ipython-input-65-323ce5d717bb>\u001b[0m in \u001b[0;36m<module>\u001b[0;34m()\u001b[0m\n\u001b[0;32m----> 1\u001b[0;31m \u001b[0mnext\u001b[0m\u001b[0;34m(\u001b[0m\u001b[0mgenerator\u001b[0m\u001b[0;34m)\u001b[0m\u001b[0;34m\u001b[0m\u001b[0;34m\u001b[0m\u001b[0m\n\u001b[0m",
            "\u001b[0;31mStopIteration\u001b[0m: "
          ]
        }
      ]
    },
    {
      "cell_type": "markdown",
      "metadata": {
        "id": "i5ye43bIoK23"
      },
      "source": [
        "Bezpieczniejszym sposobem na przejrzenie wszystkich wartości zwracanych przez generator jest wykorzystanie dowolnej pętli"
      ]
    },
    {
      "cell_type": "code",
      "metadata": {
        "colab": {
          "base_uri": "https://localhost:8080/"
        },
        "id": "IYNzHJ_roJic",
        "outputId": "faee6c72-6b7b-4e59-e8ff-2ff53defd9b4"
      },
      "source": [
        "from typing import Generator\n",
        "\n",
        "generator: Generator[int, None, None] = gen()\n",
        "\n",
        "for value in generator:\n",
        "  print(value)"
      ],
      "execution_count": null,
      "outputs": [
        {
          "output_type": "stream",
          "text": [
            "1\n",
            "2\n",
            "3\n"
          ],
          "name": "stdout"
        }
      ]
    },
    {
      "cell_type": "markdown",
      "metadata": {
        "id": "-1mCMV2n7kza"
      },
      "source": [
        "Generatory mogą również zwracać wartości \"w nieskończoność\""
      ]
    },
    {
      "cell_type": "code",
      "metadata": {
        "colab": {
          "base_uri": "https://localhost:8080/"
        },
        "id": "cHXZg2pd8vXU",
        "outputId": "8bf4984c-6c7f-469f-a054-5ecd27d8bf3e"
      },
      "source": [
        "from typing import Generator\n",
        "\n",
        "def gen(start: int) -> Generator[int, None, None]:\n",
        "  while True:  \n",
        "    yield start  \n",
        "    start += 1  \n",
        "\n",
        "\n",
        "generator: Generator[int, None, None] = gen(5)  \n",
        "\n",
        "print(next(generator))  \n",
        "print(next(generator))  \n",
        "print(next(generator))  \n",
        "print(next(generator))\n",
        "print(next(generator))\n",
        "print(next(generator))  "
      ],
      "execution_count": null,
      "outputs": [
        {
          "output_type": "stream",
          "text": [
            "5\n",
            "6\n",
            "7\n",
            "8\n",
            "9\n",
            "10\n"
          ],
          "name": "stdout"
        }
      ]
    },
    {
      "cell_type": "markdown",
      "metadata": {
        "id": "Cuvj6HdGpWCo"
      },
      "source": [
        "## Zadania\n",
        "\n",
        "1. Przygotować funkcję, która przyjmie argumenty x, y typu całkowitego oraz operator typu tekstowego (dodawanie, odejmowanie). Funkcja zwróci wynik dodawania lub odejmowania argumentów x i y w zależności od znaku działania przekazanego w argumencie operator.\n",
        "\n",
        "2. Przygotować funkcję, która przyjmie argumenty x0, y0 oraz x1, y2 które będą współrzędnymi punktów na płaszczyźnie i zwróci odległość euklidesową między tymi dwoma punktami.\n",
        "\n",
        "3. Przygotować funkcję, która przyjmie argumenty a, b, c typu całkowitego i zwróci miejsca zerowe funkcji kwadratowej dla przekazanych parametrów.\n",
        "\n",
        "4. Przygotować funkcję, która przyjmie argument x w postaci listy liczb całkowitych i zwróci najmniejszą wartość.\n",
        "\n",
        "5. Przygotować funkcję, która przyjmie argument w postaci listy wartości tekstowych i zwróci najdłuższy z nich.\n",
        "\n",
        "6. Przygotować funkcję, która przyjmie dowolną liczbę argumentów pozycyjnych i zwróci ich średnią arytmetyczną.\n",
        "\n",
        "7. Przygotować funkcję, która przyjmie dowolną liczbę argumentów przekazanych przez nazwę i zwróci ich średnią ważoną. Przykładowe wywołanie: foo(v0=2, w0=0.6, v1=4, w1=0.4)\n",
        "\n",
        "8. Przygotować funkcję, która przyjmie argument x w postaci listy wartości całkowitych i zwróci dwie listy: pierwsza zawierająca wartości parzyste, a druga zawierająca wartości nieparzyste z listy x.\n",
        "\n",
        "9. Przygotować funkcję, która sprawdzi czy przekazane słowo w argumencie jest palindromem.\n",
        "\n",
        "10. Przygotować funkcję, która przyjmie listę dowolnych wartości dowolnych typów i zwróci listę dwuwymiarową, gdzie każdy wiersz będzie zawierał wartości tylko jednego typu.\n",
        "\n",
        "11. Przygotować generator, który będzie zwracał kolejne liczby parzyste począwszy od wskazanej wartości.\n",
        "\n",
        "12. Przygotować generator, który przyjmie parametry charakteryzujące ciąg arytmetyczny i będzie zwracał jego kolejne wartości.\n",
        "\n",
        "13. Przygotować generator, który będzie zwracał kolejne wartości ciągu Fibonacciego.\n",
        "\n",
        "14. Przygotować generator, który będzie zwracał kolejne liczby pierwsze.\n",
        "\n",
        "15. Przygotować generator, który przyjmie parametr x - listę liczb całkowitych oraz parametr n typu całkowitoliczbowego i będzie zwracał listę x podzieloną na n części. Jeżeli podział będzie nierówny, to ostatni ostatnia część może zawierać więcej elementów. \n",
        "\n"
      ]
    },
    {
      "cell_type": "code",
      "metadata": {
        "id": "CEbuf-9UoZW6"
      },
      "source": [
        ""
      ],
      "execution_count": null,
      "outputs": []
    }
  ]
}