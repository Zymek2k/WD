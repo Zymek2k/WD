{
  "nbformat": 4,
  "nbformat_minor": 0,
  "metadata": {
    "colab": {
      "name": "Kopia Lab_3.ipynb",
      "provenance": [],
      "collapsed_sections": [],
      "toc_visible": true
    },
    "kernelspec": {
      "name": "python3",
      "display_name": "Python 3"
    }
  },
  "cells": [
    {
      "cell_type": "markdown",
      "metadata": {
        "id": "uskh-6kvPC67"
      },
      "source": [
        "# Lab 3 - Podstawy języka Python: instrukcje warunkowe, iteracyjne, sterujące i kontenery danych\n",
        "\n",
        "## Lista\n",
        "\n",
        "Lista jest zmienną, w której można przechowywać wiele innych wartości. Elementami listy mogą być wszystkie dostępne typy w języku Python. Listy są modyfikowalne, co daje możliwość dodawania, usuwania oraz modyfkowania poszczególnych elementów.\n",
        "\n",
        "### Lista jednowymiarowa\n",
        "\n",
        "Pustą listę jednowymiarową definiujemy następująco:"
      ]
    },
    {
      "cell_type": "code",
      "metadata": {
        "id": "c_OV3g2EO8nr"
      },
      "source": [
        "li = []"
      ],
      "execution_count": null,
      "outputs": []
    },
    {
      "cell_type": "markdown",
      "metadata": {
        "id": "uMFOfpWSQ-zc"
      },
      "source": [
        "Listę można wyświetlić za pomocą funkcji print()"
      ]
    },
    {
      "cell_type": "code",
      "metadata": {
        "colab": {
          "base_uri": "https://localhost:8080/"
        },
        "id": "9vvvyYUFREpj",
        "outputId": "e2240cd3-2ae6-4d70-ace8-28d5e9120ed0"
      },
      "source": [
        "print(li)"
      ],
      "execution_count": null,
      "outputs": [
        {
          "output_type": "stream",
          "text": [
            "[]\n"
          ],
          "name": "stdout"
        }
      ]
    },
    {
      "cell_type": "markdown",
      "metadata": {
        "id": "cs8EQ9IySPRl"
      },
      "source": [
        "Można również zdefiniować listę, która będzie zawierała pewne wartości. W przypadku, gdy lista będzie zawierała wartości tylko jednego typu (str), można ją oznaczyć następująco:"
      ]
    },
    {
      "cell_type": "code",
      "metadata": {
        "colab": {
          "base_uri": "https://localhost:8080/"
        },
        "id": "XSsn2hJZRGOO",
        "outputId": "56d3fc48-8d1d-4c57-feb5-4747cb19dded"
      },
      "source": [
        "from typing import List  \n",
        "\n",
        "li: List[str] = ['jeden', 'dwa', 'trzy']  \n",
        "\n",
        "print(li)"
      ],
      "execution_count": null,
      "outputs": [
        {
          "output_type": "stream",
          "text": [
            "['jeden', 'dwa', 'trzy']\n"
          ],
          "name": "stdout"
        }
      ]
    },
    {
      "cell_type": "markdown",
      "metadata": {
        "id": "R1hKVfYmTBkj"
      },
      "source": [
        "W przypadku gdy lista będzie zawierała wartości różnych typów, do oznaczenia wartości użyjemy typu List[Any], gdzie Any jest uniwersalnym typem, który można stosować do dowolnych wartości"
      ]
    },
    {
      "cell_type": "code",
      "metadata": {
        "colab": {
          "base_uri": "https://localhost:8080/"
        },
        "id": "6wj8BINZS2aw",
        "outputId": "7f67914d-75e8-43ea-9a87-17d866c51a80"
      },
      "source": [
        "from typing import List, Any  \n",
        "\n",
        "li: List[Any] = [1, 'dwa', 3, 'cztery']\n",
        "\n",
        "print(li)"
      ],
      "execution_count": null,
      "outputs": [
        {
          "output_type": "stream",
          "text": [
            "[1, 'dwa', 3, 'cztery']\n"
          ],
          "name": "stdout"
        }
      ]
    },
    {
      "cell_type": "markdown",
      "metadata": {
        "id": "OUCmmgNLULpO"
      },
      "source": [
        "### Lista dwuwymiarowa\n",
        "\n",
        "W liście dwuwymiarowej każdy element listy jest kolejną listą zawierającą właściwe wartości. "
      ]
    },
    {
      "cell_type": "code",
      "metadata": {
        "colab": {
          "base_uri": "https://localhost:8080/"
        },
        "id": "FZ-fyVQTUI16",
        "outputId": "58c27fb0-48bb-44c0-c7b4-22e8587e9e77"
      },
      "source": [
        "from typing import List\n",
        "\n",
        "\n",
        "li_2d: List[List[int]] = [\n",
        "                          [1, 2, 3],\n",
        "                          [4, 5, 6],\n",
        "                          [7, 8, 9],\n",
        "]\n",
        "\n",
        "print(li_2d)"
      ],
      "execution_count": null,
      "outputs": [
        {
          "output_type": "stream",
          "text": [
            "[[1, 2, 3], [4, 5, 6], [7, 8, 9]]\n"
          ],
          "name": "stdout"
        }
      ]
    },
    {
      "cell_type": "markdown",
      "metadata": {
        "id": "KU-gg0qEVfJS"
      },
      "source": [
        "### Lista trójwymiarowa\n",
        "\n",
        "Każdy element listy trójwymiarowej jest listą dwuwymiarową"
      ]
    },
    {
      "cell_type": "code",
      "metadata": {
        "colab": {
          "base_uri": "https://localhost:8080/"
        },
        "id": "2XdFD7G-Vcn0",
        "outputId": "c164b54d-d9ee-4c5f-b3dd-d1f497c458a6"
      },
      "source": [
        "from typing import List\n",
        "\n",
        "\n",
        "li_3d: List[List[List[int]]] = [\n",
        "                                [\n",
        "                                 [1, 2, 3],\n",
        "                                 [4, 5, 6],\n",
        "                                 [7, 8, 9],\n",
        "                                ],\n",
        "                                [\n",
        "                                 [11, 12, 13],\n",
        "                                 [14, 15, 16],\n",
        "                                 [17, 18, 19],\n",
        "                                ]\n",
        "]\n",
        "\n",
        "print(li_3d)"
      ],
      "execution_count": null,
      "outputs": [
        {
          "output_type": "stream",
          "text": [
            "[[[1, 2, 3], [4, 5, 6], [7, 8, 9]], [[11, 12, 13], [14, 15, 16], [17, 18, 19]]]\n"
          ],
          "name": "stdout"
        }
      ]
    },
    {
      "cell_type": "markdown",
      "metadata": {
        "id": "7MiSGUJmWeCt"
      },
      "source": [
        "### Sprawdzanie długości list\n",
        "\n",
        "Długość listy można najprościej sprawdzić za pomocą funkcji len() - podobnie jak ciąg znaków"
      ]
    },
    {
      "cell_type": "code",
      "metadata": {
        "colab": {
          "base_uri": "https://localhost:8080/"
        },
        "id": "eEne0r4dWHnZ",
        "outputId": "c21c505d-0f93-4dfd-e105-e38b6567be0b"
      },
      "source": [
        "from typing import List\n",
        "\n",
        "li_1d: List[int] = [1, 2, 3, 4, 5, 10]\n",
        "\n",
        "print(len(li_1d))"
      ],
      "execution_count": null,
      "outputs": [
        {
          "output_type": "stream",
          "text": [
            "6\n"
          ],
          "name": "stdout"
        }
      ]
    },
    {
      "cell_type": "markdown",
      "metadata": {
        "id": "3efE42C1XEls"
      },
      "source": [
        "Długość listy dwuwymiarowej można sprawdzić stosując funkcję len() do każdego wymiaru"
      ]
    },
    {
      "cell_type": "code",
      "metadata": {
        "colab": {
          "base_uri": "https://localhost:8080/"
        },
        "id": "KNMeQ4hVXCYY",
        "outputId": "6029e74d-6c93-43dc-b518-d8ca787972ab"
      },
      "source": [
        "from typing import List\n",
        "\n",
        "li_2d: List[List[int]] = [\n",
        "                          [1, 2, 3],\n",
        "                          [4, 5, 6],\n",
        "]\n",
        "\n",
        "print(f'Liczba wierszy: {len(li_2d)}, liczba kolumn: {len(li_2d[0])}') "
      ],
      "execution_count": null,
      "outputs": [
        {
          "output_type": "stream",
          "text": [
            "Liczba wierszy: 2, liczba kolumn: 3\n"
          ],
          "name": "stdout"
        }
      ]
    },
    {
      "cell_type": "markdown",
      "metadata": {
        "id": "nJ4wTEzEX5Jp"
      },
      "source": [
        "Analogicznie można postąpić w przypadku listy trójwymiarowej, czterowymiarowej, itd...\n",
        "\n",
        "### Dodawanie nowych elementów do listy\n",
        "\n",
        "Do dodawania nowych elementów na końcu listy służy metoda append()"
      ]
    },
    {
      "cell_type": "code",
      "metadata": {
        "colab": {
          "base_uri": "https://localhost:8080/"
        },
        "id": "ERnAHvlkX3rq",
        "outputId": "a68ac309-9a36-4b62-f4ea-5ad810d682af"
      },
      "source": [
        "from typing import List\n",
        "\n",
        "li_1d: List[float] = [1.5, 2.5, 3.5]  \n",
        "print(f'przed dodaniem: {li_1d}')\n",
        "\n",
        "li_1d.append(4.5)  \n",
        "print(f'po dodaniu: {li_1d}')"
      ],
      "execution_count": null,
      "outputs": [
        {
          "output_type": "stream",
          "text": [
            "przed dodaniem: [1.5, 2.5, 3.5]\n",
            "po dodaniu: [1.5, 2.5, 3.5, 4.5]\n"
          ],
          "name": "stdout"
        }
      ]
    },
    {
      "cell_type": "markdown",
      "metadata": {
        "id": "IGRFyNA0YvXQ"
      },
      "source": [
        "W listach dwuwymiarowych również można dodawać nowe wartości i nowe wiersze"
      ]
    },
    {
      "cell_type": "code",
      "metadata": {
        "colab": {
          "base_uri": "https://localhost:8080/"
        },
        "id": "WyIgjyNsYcKr",
        "outputId": "665123e3-c18c-4326-b97c-6685b4878eaa"
      },
      "source": [
        "from typing import List\n",
        "\n",
        "\n",
        "li_2d: List[List[int]] = [\n",
        "                          [1, 2, 3],\n",
        "                          [4, 5, 6],\n",
        "                          [7, 8, 9],\n",
        "]\n",
        "\n",
        "li_2d.append([10, 11, 12])  \n",
        "\n",
        "print(li_2d)"
      ],
      "execution_count": null,
      "outputs": [
        {
          "output_type": "stream",
          "text": [
            "[[1, 2, 3], [4, 5, 6], [7, 8, 9], [10, 11, 12]]\n"
          ],
          "name": "stdout"
        }
      ]
    },
    {
      "cell_type": "markdown",
      "metadata": {
        "id": "x3Z5LAg1aEOk"
      },
      "source": [
        "### Usuwanie elementów\n",
        "\n",
        "Do usuwania elementów z list służy instrukcja **del**, która nie jest funkcją"
      ]
    },
    {
      "cell_type": "code",
      "metadata": {
        "colab": {
          "base_uri": "https://localhost:8080/"
        },
        "id": "tU6VzhmUZksG",
        "outputId": "a4980e7d-7055-4003-855d-a58b53a1aed4"
      },
      "source": [
        "from typing import List\n",
        "\n",
        "li_1d: List[float] = [1.5, 2.5, 3.5, 4.5, 5.5]  \n",
        "print(f'przed usunieciem: {li_1d}')\n",
        "\n",
        "del li_1d[1] \n",
        "print(f'po usunieciu: {li_1d}')"
      ],
      "execution_count": null,
      "outputs": [
        {
          "output_type": "stream",
          "text": [
            "przed usunieciem: [1.5, 2.5, 3.5, 4.5, 5.5]\n",
            "po usunieciu: [1.5, 3.5, 4.5, 5.5]\n"
          ],
          "name": "stdout"
        }
      ]
    },
    {
      "cell_type": "markdown",
      "metadata": {
        "id": "as7ZUNKba3Nr"
      },
      "source": [
        "W podobny sposób można usuwać wartości z listy dwuwymiarowej"
      ]
    },
    {
      "cell_type": "code",
      "metadata": {
        "colab": {
          "base_uri": "https://localhost:8080/"
        },
        "id": "ozcUPUgbac46",
        "outputId": "a81f4531-c637-4d40-d13f-54a78ab60b1c"
      },
      "source": [
        "from typing import List\n",
        "\n",
        "\n",
        "li_2d: List[List[int]] = [\n",
        "                          [1, 2, 3],\n",
        "                          [4, 5, 6],\n",
        "                          [7, 8, 9],\n",
        "]\n",
        "print(f'przed usunieciem pierwszego wiersza {li_2d}')\n",
        "\n",
        "del li_2d[0]  \n",
        "print(f'przed usunieciem pierwszego wiersza {li_2d}')"
      ],
      "execution_count": null,
      "outputs": [
        {
          "output_type": "stream",
          "text": [
            "przed usunieciem pierwszego wiersza [[1, 2, 3], [4, 5, 6], [7, 8, 9]]\n",
            "przed usunieciem pierwszego wiersza [[4, 5, 6], [7, 8, 9]]\n"
          ],
          "name": "stdout"
        }
      ]
    },
    {
      "cell_type": "markdown",
      "metadata": {
        "id": "At1JYqbmdVIT"
      },
      "source": [
        "### Pobieranie elementów listy na wyznaczonych pozycjach\n",
        "\n",
        "Odwołanie się do elementu listy na wskazanej pozycji spowoduje zwrócenie jego wartości\n",
        "\n",
        "\n",
        "\n"
      ]
    },
    {
      "cell_type": "code",
      "metadata": {
        "colab": {
          "base_uri": "https://localhost:8080/"
        },
        "id": "V6JkcevCdDai",
        "outputId": "4ce1e35d-0c68-4a9a-cec1-bac6dd9ed8a4"
      },
      "source": [
        "from typing import List\n",
        "\n",
        "li_1d: List[float] = [1.5, 2.5, 3.5, 4.5, 5.5]  \n",
        "\n",
        "print(li_1d[1])  "
      ],
      "execution_count": null,
      "outputs": [
        {
          "output_type": "stream",
          "text": [
            "2.5\n"
          ],
          "name": "stdout"
        }
      ]
    },
    {
      "cell_type": "markdown",
      "metadata": {
        "id": "ZUbIDU9HeH30"
      },
      "source": [
        "W celu odwołania się do wartości elementu listy wieowymiarowej należy wskazać jego pozycję w każdym wymiarze"
      ]
    },
    {
      "cell_type": "code",
      "metadata": {
        "colab": {
          "base_uri": "https://localhost:8080/"
        },
        "id": "Wdr5kmCveEfH",
        "outputId": "86783356-7585-472d-8b8c-2966cfefa805"
      },
      "source": [
        "from typing import List\n",
        "\n",
        "\n",
        "li_2d: List[List[int]] = [\n",
        "                          [1, 2, 3],\n",
        "                          [4, 5, 6],\n",
        "                          [7, 8, 9],\n",
        "]\n",
        "\n",
        "print(li_2d[1][2])  "
      ],
      "execution_count": null,
      "outputs": [
        {
          "output_type": "stream",
          "text": [
            "6\n"
          ],
          "name": "stdout"
        }
      ]
    },
    {
      "cell_type": "markdown",
      "metadata": {
        "id": "ijWPaohZfM8Q"
      },
      "source": [
        "### Łączenie list\n",
        "\n",
        "Łączenie list polega na utworzeniu nowej listy zawierającej wszystkie elementy z listy składowych. Operacji połączenia list można dokonać za pomocą operatora +"
      ]
    },
    {
      "cell_type": "code",
      "metadata": {
        "colab": {
          "base_uri": "https://localhost:8080/"
        },
        "id": "sCwxP7rAekuX",
        "outputId": "a4454524-a6fb-4fe8-bf46-1357f9789a7a"
      },
      "source": [
        "from typing import List, Any\n",
        "\n",
        "li_0: List[int] = [1, 2, 3]  \n",
        "li_1: List[str] = ['cztery', 'piec', 'szesc']  \n",
        "\n",
        "li_new: List[Any] = li_0 + li_1  \n",
        "\n",
        "print(li_new)"
      ],
      "execution_count": null,
      "outputs": [
        {
          "output_type": "stream",
          "text": [
            "[1, 2, 3, 'cztery', 'piec', 'szesc']\n"
          ],
          "name": "stdout"
        }
      ]
    },
    {
      "cell_type": "markdown",
      "metadata": {
        "id": "u8hO9QcMgL2l"
      },
      "source": [
        "Podobną procedurę można zastosować przy łączeniu list dwuwymiarowych, gdzie wszystkie elementy zostaną połączone na poziomie wierszy"
      ]
    },
    {
      "cell_type": "code",
      "metadata": {
        "colab": {
          "base_uri": "https://localhost:8080/"
        },
        "id": "ujg5I7Zvf8A8",
        "outputId": "e5fa1e13-3436-49d0-9d76-bbd8abd94acd"
      },
      "source": [
        "from typing import List\n",
        "\n",
        "\n",
        "li_0: List[List[int]] = [\n",
        "                          [1, 2, 3],\n",
        "                          [4, 5, 6],\n",
        "                          [7, 8, 9],\n",
        "]\n",
        "\n",
        "\n",
        "li_1: List[List[float]] = [\n",
        "                          [11.1, 12.1, 13.1],\n",
        "                          [14.1, 15.1, 16.1],\n",
        "                          [17.1, 18.1, 19.1],\n",
        "]\n",
        "\n",
        " \n",
        "li_new: List[Any] = li_0 + li_1\n",
        "\n",
        "print(li_new)"
      ],
      "execution_count": null,
      "outputs": [
        {
          "output_type": "stream",
          "text": [
            "[[1, 2, 3], [4, 5, 6], [7, 8, 9], [11.1, 12.1, 13.1], [14.1, 15.1, 16.1], [17.1, 18.1, 19.1]]\n"
          ],
          "name": "stdout"
        }
      ]
    },
    {
      "cell_type": "markdown",
      "metadata": {
        "id": "fls-6GuO04Zs"
      },
      "source": [
        "### Sprawdzenie czy element znajduje się w liście\n",
        "\n",
        "W tym celu użyjemy instrukcji **in**\n",
        "\n",
        "Sprawdźmy czy w liście liczb całkowitych znajduje się pewna wartość"
      ]
    },
    {
      "cell_type": "code",
      "metadata": {
        "colab": {
          "base_uri": "https://localhost:8080/"
        },
        "id": "06ZCp1a91J1y",
        "outputId": "f6a2912c-fcc2-47ae-a250-3144b64d0e03"
      },
      "source": [
        "from typing import List\n",
        "\n",
        "li: List[int] = [1, 11, 21, 31, 41, 51]  \n",
        "\n",
        "print(11 in li)  "
      ],
      "execution_count": null,
      "outputs": [
        {
          "output_type": "stream",
          "text": [
            "True\n"
          ],
          "name": "stdout"
        }
      ]
    },
    {
      "cell_type": "markdown",
      "metadata": {
        "id": "_2ojv1Ekg869"
      },
      "source": [
        "## Krotka (tupla)\n",
        "\n",
        "Krotka (podobnie jak lista) jest zmienną, w której można przechowywać wiele wartości. Krotka jest jednak niezmienna - nie można jej modyfikować.\n",
        "\n",
        "Stwórzmy krotkę zawierającą wartości całkowite"
      ]
    },
    {
      "cell_type": "code",
      "metadata": {
        "colab": {
          "base_uri": "https://localhost:8080/"
        },
        "id": "zjePzJ85gkDW",
        "outputId": "d81fac5d-9323-4791-c527-5751961bd231"
      },
      "source": [
        "from typing import Tuple  \n",
        "\n",
        "tup: Tuple[int] = (1, 2, 5, 8)  \n",
        "\n",
        "print(tup)"
      ],
      "execution_count": null,
      "outputs": [
        {
          "output_type": "stream",
          "text": [
            "(1, 2, 5, 8)\n"
          ],
          "name": "stdout"
        }
      ]
    },
    {
      "cell_type": "markdown",
      "metadata": {
        "id": "RafdZV6jjCSn"
      },
      "source": [
        "Podobnie jak w przypadku list, można również tworzyć krotki wielowymiarowe"
      ]
    },
    {
      "cell_type": "code",
      "metadata": {
        "colab": {
          "base_uri": "https://localhost:8080/"
        },
        "id": "fEPygT2Xi_Je",
        "outputId": "84398621-886f-4a3a-f369-7fcc78caffa7"
      },
      "source": [
        "from typing import Tuple\n",
        "\n",
        "\n",
        "tup_2d: Tuple[Tuple[float]] = (\n",
        "    (1.2, 2.2, 3.2),\n",
        "    (4.2, 5.2, 6.2),\n",
        "    (7.2, 8.2, 9.2),\n",
        ")\n",
        "\n",
        "print(tup_2d)"
      ],
      "execution_count": null,
      "outputs": [
        {
          "output_type": "stream",
          "text": [
            "((1.2, 2.2, 3.2), (4.2, 5.2, 6.2), (7.2, 8.2, 9.2))\n"
          ],
          "name": "stdout"
        }
      ]
    },
    {
      "cell_type": "markdown",
      "metadata": {
        "id": "M9fT4winjr3N"
      },
      "source": [
        "Za pomocą funkcji len() można również sprawdzić długość krotki w każdym wymiarze"
      ]
    },
    {
      "cell_type": "code",
      "metadata": {
        "colab": {
          "base_uri": "https://localhost:8080/"
        },
        "id": "X8LvNr0ejpxE",
        "outputId": "e615f354-7f67-439e-ce0d-3fce69911eb6"
      },
      "source": [
        "from typing import Tuple\n",
        "\n",
        "tup: Tuple[int] = (1, 2, 5, 8)  \n",
        "\n",
        "print(len(tup))"
      ],
      "execution_count": null,
      "outputs": [
        {
          "output_type": "stream",
          "text": [
            "4\n"
          ],
          "name": "stdout"
        }
      ]
    },
    {
      "cell_type": "markdown",
      "metadata": {
        "id": "XuSu1kKOkKEr"
      },
      "source": [
        "Istnieje również możliwość łączenia krotek"
      ]
    },
    {
      "cell_type": "code",
      "metadata": {
        "colab": {
          "base_uri": "https://localhost:8080/"
        },
        "id": "QnOMmsPckCXX",
        "outputId": "7667f287-bc0a-4593-9aa2-5d89a7098a49"
      },
      "source": [
        "from typing import Tuple\n",
        "\n",
        "tup_0: Tuple[int] = (1, 2, 5, 8)\n",
        "tup_1: Tuple[int] = (10, 11, 12)\n",
        "\n",
        "\n",
        "tuple_new: Tuple[int] = tup_0 + tup_1\n",
        "\n",
        "print(tuple_new)"
      ],
      "execution_count": null,
      "outputs": [
        {
          "output_type": "stream",
          "text": [
            "(1, 2, 5, 8, 10, 11, 12)\n"
          ],
          "name": "stdout"
        }
      ]
    },
    {
      "cell_type": "markdown",
      "metadata": {
        "id": "U4sPeh6ykxNZ"
      },
      "source": [
        "## Słownik\n",
        "\n",
        "Słownik to kolekcja par (klucz, wartość). Stwórzmy nowy pusty słownik\n"
      ]
    },
    {
      "cell_type": "code",
      "metadata": {
        "colab": {
          "base_uri": "https://localhost:8080/"
        },
        "id": "mwB4gq4Eko-1",
        "outputId": "33597827-fdd2-4217-85b8-9ecf043646ec"
      },
      "source": [
        "di = {}\n",
        "\n",
        "print(di)"
      ],
      "execution_count": null,
      "outputs": [
        {
          "output_type": "stream",
          "text": [
            "{}\n"
          ],
          "name": "stdout"
        }
      ]
    },
    {
      "cell_type": "markdown",
      "metadata": {
        "id": "5dTl-QuKmB0x"
      },
      "source": [
        "Słownik można oznaczyć typem Dict zaimportowanym z modułu typing. Stwórzmy nowy słownik, w którym klucz będzie typu całkowitego, a wartość typu tekstowego"
      ]
    },
    {
      "cell_type": "code",
      "metadata": {
        "colab": {
          "base_uri": "https://localhost:8080/"
        },
        "id": "7jeQs7uNmAnJ",
        "outputId": "0a12afdd-10da-42d8-e323-7497f1709782"
      },
      "source": [
        "from typing import Dict  \n",
        "\n",
        "\n",
        "di: Dict[int, str] = {\n",
        "    1: 'jeden',\n",
        "    2: 'dwa',\n",
        "    3: 'trzy',\n",
        "}\n",
        "\n",
        "print(di)"
      ],
      "execution_count": null,
      "outputs": [
        {
          "output_type": "stream",
          "text": [
            "{1: 'jeden', 2: 'dwa', 3: 'trzy'}\n"
          ],
          "name": "stdout"
        }
      ]
    },
    {
      "cell_type": "markdown",
      "metadata": {
        "id": "k-UUg4semgi-"
      },
      "source": [
        "Klucze i wartości w słownikach mogą mieć różne typy danych, które można oznaczyć typem ogólnym Any"
      ]
    },
    {
      "cell_type": "code",
      "metadata": {
        "colab": {
          "base_uri": "https://localhost:8080/"
        },
        "id": "1SuNZtXJmdYp",
        "outputId": "ccbb50c5-6887-43a5-fd24-4c55cc4ea046"
      },
      "source": [
        "from typing import Dict, Any\n",
        "\n",
        "\n",
        "di: Dict[Any, Any] = {\n",
        "    1: 'jeden',\n",
        "    'dwa': 2,\n",
        "}\n",
        "\n",
        "print(di)"
      ],
      "execution_count": null,
      "outputs": [
        {
          "output_type": "stream",
          "text": [
            "{1: 'jeden', 'dwa': 2}\n"
          ],
          "name": "stdout"
        }
      ]
    },
    {
      "cell_type": "markdown",
      "metadata": {
        "id": "V9i0iAIYncHu"
      },
      "source": [
        "### Pobieranie wartości ze słowników\n",
        "\n",
        "Pobieranie wartości ze słowników jest podobne do pobierania wartości elementów z list. Różnica polega na wskazaniu klucza zamiast pozycji elementu"
      ]
    },
    {
      "cell_type": "code",
      "metadata": {
        "colab": {
          "base_uri": "https://localhost:8080/"
        },
        "id": "XXso8WfZmqhI",
        "outputId": "b47d334c-1995-416e-a045-008ff22ecb5a"
      },
      "source": [
        "from typing import Dict\n",
        "\n",
        "di: Dict[str, str] = {\n",
        "    'one': 'jeden',\n",
        "    'two': 'dwa',\n",
        "    'three': 'trzy',\n",
        "}\n",
        "\n",
        "print(di['two'])  "
      ],
      "execution_count": null,
      "outputs": [
        {
          "output_type": "stream",
          "text": [
            "dwa\n"
          ],
          "name": "stdout"
        }
      ]
    },
    {
      "cell_type": "markdown",
      "metadata": {
        "id": "mFDNj9-8oK9f"
      },
      "source": [
        "### Dodawanie nowych par do słowników\n",
        "\n",
        "Dodawanie nowych par do słowników polega na odwołaniu się do klucza, który nie istnieje i przypisaniu nowej wartości"
      ]
    },
    {
      "cell_type": "code",
      "metadata": {
        "colab": {
          "base_uri": "https://localhost:8080/"
        },
        "id": "XEb86pOZoELA",
        "outputId": "2a101fe0-3395-4522-a201-b4cf1af80b9c"
      },
      "source": [
        "from typing import Dict\n",
        "\n",
        "di: Dict[str, str] = {\n",
        "    'one': 'jeden',\n",
        "    'two': 'dwa',\n",
        "    'three': 'trzy',\n",
        "}\n",
        "print(f'Przed dodaniem nowego klucza: {di}')\n",
        "\n",
        "di['four'] = 'cztery' \n",
        "print(f'Po dodaniu nowego klucza: {di}')"
      ],
      "execution_count": null,
      "outputs": [
        {
          "output_type": "stream",
          "text": [
            "Przed dodaniem nowego klucza: {'one': 'jeden', 'two': 'dwa', 'three': 'trzy'}\n",
            "Po dodaniu nowego klucza: {'one': 'jeden', 'two': 'dwa', 'three': 'trzy', 'four': 'cztery'}\n"
          ],
          "name": "stdout"
        }
      ]
    },
    {
      "cell_type": "markdown",
      "metadata": {
        "id": "rGwDNwK7pakm"
      },
      "source": [
        "### Modyfikacja wartości w słownikach\n",
        "\n",
        "Modyfikacja wartości w słownikach jest bardzo podobna do dodawania nowych par. Różnica polega na odwołaniu się do istniejącego klucza i przypisaniu mu nowej wartości"
      ]
    },
    {
      "cell_type": "code",
      "metadata": {
        "colab": {
          "base_uri": "https://localhost:8080/"
        },
        "id": "NIjKbSYTpWfn",
        "outputId": "01ea7d2b-0118-4f6d-e24f-07c0e46da724"
      },
      "source": [
        "from typing import Dict\n",
        "\n",
        "di: Dict[str, str] = {\n",
        "    'one': 'jeden',\n",
        "    'two': 'dwa',\n",
        "    'three': 'trzy',\n",
        "}\n",
        "print(f'Przed modyfikacja wartosci: {di}')\n",
        "\n",
        "di['three'] = '3'\n",
        "print(f'Po modyfikacji wartosci: {di}')"
      ],
      "execution_count": null,
      "outputs": [
        {
          "output_type": "stream",
          "text": [
            "Przed modyfikacja wartosci: {'one': 'jeden', 'two': 'dwa', 'three': 'trzy'}\n",
            "Po modyfikacji wartosci: {'one': 'jeden', 'two': 'dwa', 'three': '3'}\n"
          ],
          "name": "stdout"
        }
      ]
    },
    {
      "cell_type": "markdown",
      "metadata": {
        "id": "YmoZHVhap6Ba"
      },
      "source": [
        "### Usuwanie par w słowniku\n",
        "\n",
        "Usuwanie par w słowniku odbywa się za pomocą instrukcji **del** - podobnie jak w przypadku listy. W tym celu należy odwołać się do klucza, który zostanie usunięty wraz z przypisaną mu wartością"
      ]
    },
    {
      "cell_type": "code",
      "metadata": {
        "colab": {
          "base_uri": "https://localhost:8080/"
        },
        "id": "SYkx16m9p1OY",
        "outputId": "3f23ab3b-f2b5-4513-db10-c376c0aecfd4"
      },
      "source": [
        "from typing import Dict\n",
        "\n",
        "di: Dict[str, str] = {\n",
        "    'one': 'jeden',\n",
        "    'two': 'dwa',\n",
        "    'three': 'trzy',\n",
        "}\n",
        "print(f'Przed usunieciem: {di}')\n",
        "\n",
        "del di['two']  \n",
        "print(f'Po usunieciu: {di}')"
      ],
      "execution_count": null,
      "outputs": [
        {
          "output_type": "stream",
          "text": [
            "Przed usunieciem: {'one': 'jeden', 'two': 'dwa', 'three': 'trzy'}\n",
            "Po usunieciu: {'one': 'jeden', 'three': 'trzy'}\n"
          ],
          "name": "stdout"
        }
      ]
    },
    {
      "cell_type": "markdown",
      "metadata": {
        "id": "_gNiGStYqbWk"
      },
      "source": [
        "### Długość słownika\n",
        "\n",
        "Za pomocą funkcji len() można sprawdzić długość słownika, czyli liczbę par, która się w nim znajduje"
      ]
    },
    {
      "cell_type": "code",
      "metadata": {
        "colab": {
          "base_uri": "https://localhost:8080/"
        },
        "id": "UlOxktklqZ5b",
        "outputId": "e429cb10-15fb-4077-fb2c-9a5e253a54cd"
      },
      "source": [
        "from typing import Dict\n",
        "\n",
        "di: Dict[str, str] = {\n",
        "    'one': 'jeden',\n",
        "    'two': 'dwa',\n",
        "    'three': 'trzy',\n",
        "}\n",
        "\n",
        "print(len(di))"
      ],
      "execution_count": null,
      "outputs": [
        {
          "output_type": "stream",
          "text": [
            "3\n"
          ],
          "name": "stdout"
        }
      ]
    },
    {
      "cell_type": "markdown",
      "metadata": {
        "id": "u7tcdfCuq7Wb"
      },
      "source": [
        "## Zbiory\n",
        "\n",
        "Zbiór jest zmienną, w której można przechowywać wiele innych wartości różnych typów. W zbiorach wartości się nie powtarzają\n",
        "\n",
        "### Tworzenie nowego zbioru\n",
        "\n",
        "Utwórzmy pusty zbiór"
      ]
    },
    {
      "cell_type": "code",
      "metadata": {
        "colab": {
          "base_uri": "https://localhost:8080/"
        },
        "id": "EDE7PFEqqle4",
        "outputId": "bdc689bb-e3dc-4d97-f3e6-acdf6afeadb9"
      },
      "source": [
        "s = set()\n",
        "\n",
        "print(s)"
      ],
      "execution_count": null,
      "outputs": [
        {
          "output_type": "stream",
          "text": [
            "set()\n"
          ],
          "name": "stdout"
        }
      ]
    },
    {
      "cell_type": "markdown",
      "metadata": {
        "id": "yywXPWg7rgOL"
      },
      "source": [
        "Zbiór można oznaczyć typem Set zaimportowanym z modułu typing. Stwórzmy nowy zbiór do którego zostanie przekazana lista wartości całkowitych, gdzie niektóre z wartości się powtarzają"
      ]
    },
    {
      "cell_type": "code",
      "metadata": {
        "colab": {
          "base_uri": "https://localhost:8080/"
        },
        "id": "fF9YCm9irDPB",
        "outputId": "514b9cc6-2928-4c78-9620-c333f0f194b8"
      },
      "source": [
        "from typing import Set  \n",
        "\n",
        "s: Set[int] = set([1, 1, 3, 5, 3, 7])  \n",
        "\n",
        "print(s)"
      ],
      "execution_count": null,
      "outputs": [
        {
          "output_type": "stream",
          "text": [
            "{1, 3, 5, 7}\n"
          ],
          "name": "stdout"
        }
      ]
    },
    {
      "cell_type": "markdown",
      "metadata": {
        "id": "aYTE54vSsGvk"
      },
      "source": [
        "### Dodawanie wartości do zbioru\n",
        "\n",
        "Wartości do zbioru można dodać za pomocą metody add()\n"
      ]
    },
    {
      "cell_type": "code",
      "metadata": {
        "colab": {
          "base_uri": "https://localhost:8080/"
        },
        "id": "ZgqYZLT9r6Z1",
        "outputId": "2263a4ee-187d-4010-8f0e-939a5ebb120d"
      },
      "source": [
        "from typing import Set\n",
        "\n",
        "s: Set[int] = set()  \n",
        "print(s)\n",
        "\n",
        "s.add(20)\n",
        "s.add(10)\n",
        "s.add(15)\n",
        "\n",
        "print(s)\n",
        "\n",
        "s.add(10)  \n",
        "\n",
        "print(s)"
      ],
      "execution_count": null,
      "outputs": [
        {
          "output_type": "stream",
          "text": [
            "set()\n",
            "{10, 20, 15}\n",
            "{10, 20, 15}\n"
          ],
          "name": "stdout"
        }
      ]
    },
    {
      "cell_type": "markdown",
      "metadata": {
        "id": "VMZsIoOXt0XT"
      },
      "source": [
        "### Usuwanie wartości ze zbioru\n",
        "\n",
        "Wartości ze zbioru usuwamy metodą remove()"
      ]
    },
    {
      "cell_type": "code",
      "metadata": {
        "colab": {
          "base_uri": "https://localhost:8080/"
        },
        "id": "kZk27KE6sukL",
        "outputId": "079a67e6-bf2d-427b-bb22-b05aea9d0473"
      },
      "source": [
        "from typing import Set\n",
        "\n",
        "s: Set[int] = set([1, 1, 3, 5, 3, 7, 8, 10, 5, 8])  \n",
        "print(f'Przed usunieciem: {s}')\n",
        "\n",
        "s.remove(10)  \n",
        "print(f'Po usunieciu: {s}')"
      ],
      "execution_count": null,
      "outputs": [
        {
          "output_type": "stream",
          "text": [
            "Przed usunieciem: {1, 3, 5, 7, 8, 10}\n",
            "Po usunieciu: {1, 3, 5, 7, 8}\n"
          ],
          "name": "stdout"
        }
      ]
    },
    {
      "cell_type": "markdown",
      "metadata": {
        "id": "4pDfvbpzvEfE"
      },
      "source": [
        "### Działania na zbiorach\n",
        "\n",
        "W języku python dostępne są podstawowe działania na zbiorach\n",
        "\n",
        "#### Sprawdzenie czy dany zbiór jest podzbiorem innego zbioru\n",
        "\n"
      ]
    },
    {
      "cell_type": "code",
      "metadata": {
        "colab": {
          "base_uri": "https://localhost:8080/"
        },
        "id": "75VeNPlBuhx7",
        "outputId": "736998a8-2b20-49df-bb91-6a2009054435"
      },
      "source": [
        "from typing import Set\n",
        "\n",
        "a: Set[int] = set([1, 2, 3, 4]) \n",
        "b: Set[int] = set([1, 4])\n",
        "\n",
        "print(b <= a) "
      ],
      "execution_count": null,
      "outputs": [
        {
          "output_type": "stream",
          "text": [
            "True\n"
          ],
          "name": "stdout"
        }
      ]
    },
    {
      "cell_type": "markdown",
      "metadata": {
        "id": "lG0NABn02ElT"
      },
      "source": [
        "#### Sprawdzenie czy dany zbiór jest nadzbiorem innego zbioru"
      ]
    },
    {
      "cell_type": "code",
      "metadata": {
        "colab": {
          "base_uri": "https://localhost:8080/"
        },
        "id": "V4PnPDJz1__A",
        "outputId": "77314639-4019-4cdc-8515-c434daecf12a"
      },
      "source": [
        "from typing import Set\n",
        "\n",
        "a: Set[int] = set([1, 2, 3, 4])\n",
        "b: Set[int] = set([1, 4])\n",
        "\n",
        "print(a >= b)  "
      ],
      "execution_count": null,
      "outputs": [
        {
          "output_type": "stream",
          "text": [
            "True\n"
          ],
          "name": "stdout"
        }
      ]
    },
    {
      "cell_type": "markdown",
      "metadata": {
        "id": "lmT1CAOX2c05"
      },
      "source": [
        "#### Suma zbiorów"
      ]
    },
    {
      "cell_type": "code",
      "metadata": {
        "colab": {
          "base_uri": "https://localhost:8080/"
        },
        "id": "MWkFI3C-2SqG",
        "outputId": "863e39d9-7a7a-49ae-e62a-6c4f6b5fa51f"
      },
      "source": [
        "from typing import Set\n",
        "\n",
        "a: Set[int] = set([1, 2, 3, 4])\n",
        "b: Set[int] = set([1, 8])\n",
        "\n",
        "d: Set[int] = a | b \n",
        "\n",
        "print(d)"
      ],
      "execution_count": null,
      "outputs": [
        {
          "output_type": "stream",
          "text": [
            "{1, 2, 3, 4, 8}\n"
          ],
          "name": "stdout"
        }
      ]
    },
    {
      "cell_type": "markdown",
      "metadata": {
        "id": "FDljspZk2-i4"
      },
      "source": [
        "#### Część wspólna zbiorów"
      ]
    },
    {
      "cell_type": "code",
      "metadata": {
        "colab": {
          "base_uri": "https://localhost:8080/"
        },
        "id": "KDWWXJjt2r01",
        "outputId": "1e71b4bc-e9ac-4819-c378-1de689749f36"
      },
      "source": [
        "from typing import Set\n",
        "\n",
        "a: Set[int] = set([1, 2, 3, 4, 5])\n",
        "b: Set[int] = set([1, 3, 7, 11])\n",
        "\n",
        "d: Set[int] = a & b\n",
        "\n",
        "print(d)"
      ],
      "execution_count": null,
      "outputs": [
        {
          "output_type": "stream",
          "text": [
            "{1, 3}\n"
          ],
          "name": "stdout"
        }
      ]
    },
    {
      "cell_type": "markdown",
      "metadata": {
        "id": "wggDog7-3fEj"
      },
      "source": [
        "#### Różnica zbiorów"
      ]
    },
    {
      "cell_type": "code",
      "metadata": {
        "colab": {
          "base_uri": "https://localhost:8080/"
        },
        "id": "ZeUAX9Wj3PN8",
        "outputId": "66f2bd01-34b1-4690-ca11-d574eb59f8e7"
      },
      "source": [
        "from typing import Set\n",
        "\n",
        "a: Set[int] = set([1, 2, 3, 4, 5])\n",
        "b: Set[int] = set([1, 3, 7, 11])\n",
        "\n",
        "d: Set[int] = a - b\n",
        "\n",
        "print(d)"
      ],
      "execution_count": null,
      "outputs": [
        {
          "output_type": "stream",
          "text": [
            "{2, 4, 5}\n"
          ],
          "name": "stdout"
        }
      ]
    },
    {
      "cell_type": "markdown",
      "metadata": {
        "id": "94mbVq_Z30qo"
      },
      "source": [
        "#### Różnica symetryczna zbiorów"
      ]
    },
    {
      "cell_type": "code",
      "metadata": {
        "colab": {
          "base_uri": "https://localhost:8080/"
        },
        "id": "RcvShmIJ3ycs",
        "outputId": "332b0286-2214-4c57-927c-aa8f585084a9"
      },
      "source": [
        "from typing import Set\n",
        "\n",
        "a: Set[int] = set([1, 2, 3, 4, 5])\n",
        "b: Set[int] = set([1, 3, 7, 11])\n",
        "\n",
        "d: Set[int] = a ^ b\n",
        "\n",
        "print(d)"
      ],
      "execution_count": null,
      "outputs": [
        {
          "output_type": "stream",
          "text": [
            "{2, 4, 5, 7, 11}\n"
          ],
          "name": "stdout"
        }
      ]
    },
    {
      "cell_type": "markdown",
      "metadata": {
        "id": "aCOx8Zxs46Tp"
      },
      "source": [
        "## Instrukcja warunkowa\r\n",
        "\r\n",
        "Instrukcja warunkowa pozwala na wykonanie pewnej części kodu, tylko wtedy gdy spełniony jest dany warunek, jeśli warunek nie jest spełniony dana część kodu jest pomijana."
      ]
    },
    {
      "cell_type": "code",
      "metadata": {
        "colab": {
          "base_uri": "https://localhost:8080/"
        },
        "id": "XGta55u-38wL",
        "outputId": "17b7abde-ae0a-4a7b-9766-8731e749fe27"
      },
      "source": [
        "a: int = 5\n",
        "b: int = 8\n",
        "\n",
        "if a > b:\n",
        "  print('a jest wieksze')\n",
        "else:\n",
        "  print('b jest wieksze')"
      ],
      "execution_count": null,
      "outputs": [
        {
          "output_type": "stream",
          "text": [
            "b jest wieksze\n"
          ],
          "name": "stdout"
        }
      ]
    },
    {
      "cell_type": "code",
      "metadata": {
        "colab": {
          "base_uri": "https://localhost:8080/"
        },
        "id": "AWZ3OC655ZWf",
        "outputId": "7e777887-1a4e-44c5-8d8e-69ad0888ef74"
      },
      "source": [
        "a: int = int(input('podaj a: '))\n",
        "b: int = int(input('podaj b: '))\n",
        "\n",
        "if a > b:\n",
        "  print('a jest wieksze')\n",
        "elif a < b:\n",
        "  print('b jest wieksze')\n",
        "else:\n",
        "  print('obie wartosci sa rowne')"
      ],
      "execution_count": null,
      "outputs": [
        {
          "output_type": "stream",
          "text": [
            "podaj a: 8\n",
            "podaj b: 8\n",
            "obie wartosci sa rowne\n"
          ],
          "name": "stdout"
        }
      ]
    },
    {
      "cell_type": "markdown",
      "metadata": {
        "id": "PDz2kIsA6F-m"
      },
      "source": [
        "### Spójniki logiczne\n",
        "\n",
        "W złożonych instrukcjach warunkowych można również wykorzystywać spójniki logiczne takie jak and i or\n",
        "\n",
        "Sprawdźmy czy wartośc w zmiennej a jest parzysta i większa niż 100"
      ]
    },
    {
      "cell_type": "code",
      "metadata": {
        "colab": {
          "base_uri": "https://localhost:8080/"
        },
        "id": "1lRpzPnV504g",
        "outputId": "6ceefb1d-9fdc-4bec-ce0c-a38574d8ec82"
      },
      "source": [
        "a: int = int(input('podaj liczbe: '))\n",
        "\n",
        "if a > 100 and a % 2 == 0:\n",
        "  print('parzysta liczba > 100')\n",
        "else:\n",
        "  print('Podana wartość nie spełnia założeń')"
      ],
      "execution_count": null,
      "outputs": [
        {
          "output_type": "stream",
          "text": [
            "podaj liczbe: 120\n",
            "parzysta liczba > 100\n"
          ],
          "name": "stdout"
        }
      ]
    },
    {
      "cell_type": "markdown",
      "metadata": {
        "id": "FrprES5i7vCx"
      },
      "source": [
        "## Pętla for\n",
        "\n",
        "Pętla for służy do przeglądania wartości kolekcji (np list, krotek, słowników). W każdym przebiegu pętli zmienna sterująca przyjmuje wartość kolejnego elementu kolekcji.\n",
        "\n",
        "Stwórzmy pętlę for, która dokona iteracji po wszystkich elementach listy i je wyswietli"
      ]
    },
    {
      "cell_type": "code",
      "metadata": {
        "colab": {
          "base_uri": "https://localhost:8080/"
        },
        "id": "fDZcRaWZ7nDB",
        "outputId": "991d25fe-2d84-4f25-e5cc-d0042f9c3adf"
      },
      "source": [
        "from typing import List\n",
        "\n",
        "li: List[int] = [10, 20, 30, 40, 50]  \n",
        "\n",
        "\n",
        "for element in li:\n",
        "  print(element)"
      ],
      "execution_count": null,
      "outputs": [
        {
          "output_type": "stream",
          "text": [
            "10\n",
            "20\n",
            "30\n",
            "40\n",
            "50\n"
          ],
          "name": "stdout"
        }
      ]
    },
    {
      "cell_type": "markdown",
      "metadata": {
        "id": "A6y7GW8d9Pc5"
      },
      "source": [
        "Wewnątrz pętli for można dokonać wielu operacji na przeglądanych elementach kolekcji. Można również utworzyć z nich nową listę.\n",
        "\n",
        "Stwórzmy za pomocą pętli for nową listę, w której umieścimy wartości z listy li pomnożone przez 2"
      ]
    },
    {
      "cell_type": "code",
      "metadata": {
        "colab": {
          "base_uri": "https://localhost:8080/"
        },
        "id": "Wa1oS2aD87L3",
        "outputId": "bd3159b3-7102-41e0-938e-f76de52d525d"
      },
      "source": [
        "from typing import List\n",
        "\n",
        "li: List[int] = [10, 20, 30, 40, 50]  \n",
        "li_new: List[int] = [] \n",
        "\n",
        "\n",
        "for element in li:\n",
        "  new_element: int = element * 2  \n",
        "  li_new.append(new_element) \n",
        "print(li_new)"
      ],
      "execution_count": null,
      "outputs": [
        {
          "output_type": "stream",
          "text": [
            "[20, 40, 60, 80, 100]\n"
          ],
          "name": "stdout"
        }
      ]
    },
    {
      "cell_type": "markdown",
      "metadata": {
        "id": "YUY133yrCe3j"
      },
      "source": [
        "### Iteracja po wyznaczonym zakresie wartości\n",
        "\n",
        "W języku Python pętla for umożliwia również iterację po wyznaczonym zakresie wartości, do czego służy funkcja range()\n",
        "\n",
        "Stwórzmy pętlę for, która wypisze wartości od 0 do 9"
      ]
    },
    {
      "cell_type": "code",
      "metadata": {
        "colab": {
          "base_uri": "https://localhost:8080/"
        },
        "id": "4AHoUiK5-OSv",
        "outputId": "11e45f35-9e26-429f-bfae-fd5063c390f7"
      },
      "source": [
        "for i in range(0, 10):  \n",
        "  print(i)"
      ],
      "execution_count": null,
      "outputs": [
        {
          "output_type": "stream",
          "text": [
            "0\n",
            "1\n",
            "2\n",
            "3\n",
            "4\n",
            "5\n",
            "6\n",
            "7\n",
            "8\n",
            "9\n"
          ],
          "name": "stdout"
        }
      ]
    },
    {
      "cell_type": "markdown",
      "metadata": {
        "id": "g3GWIbV6FQM6"
      },
      "source": [
        "### Pętla w pętli\n",
        "\n",
        "W języku python nie istnieją ograniczenia związane z zagnieżdżeniami pętli, co oznacza że bez problemu można umieścić pętlę wewnątrz innej pętli\n",
        "\n",
        "Stwórzmy za pomocą pętli listę 2D (2 wiersze, 3 kolumny) wypełnioną wartościami całkowitymi od 0 do 2"
      ]
    },
    {
      "cell_type": "code",
      "metadata": {
        "colab": {
          "base_uri": "https://localhost:8080/"
        },
        "id": "jkUQTt0OEuZ9",
        "outputId": "c1fbcedd-2d58-4e2d-c183-902f5d5dcd34"
      },
      "source": [
        "from typing import List\n",
        "\n",
        "li: List[List[int]] = []  \n",
        "\n",
        "for i in range(2):  \n",
        "  tmp_row: List[int] = []  \n",
        "  \n",
        "  for i in range(3):  \n",
        "    tmp_row.append(i)  \n",
        "\n",
        "  li.append(tmp_row)  \n",
        "\n",
        "print(li)"
      ],
      "execution_count": null,
      "outputs": [
        {
          "output_type": "stream",
          "text": [
            "[[0, 1, 2], [0, 1, 2]]\n"
          ],
          "name": "stdout"
        }
      ]
    },
    {
      "cell_type": "markdown",
      "metadata": {
        "id": "AP4FugSxIRmH"
      },
      "source": [
        "## Pętla while\n",
        "\n",
        "Pętla while wykonuje się dopóki jest spełniony warunek.\n",
        "\n",
        "Stwórzmy pętlę while, która będzie się wykonywała dopóki wartość zmiennej a będzie mniejsza od 6\n",
        "\n"
      ]
    },
    {
      "cell_type": "code",
      "metadata": {
        "id": "eIpmhS7UIGwl",
        "colab": {
          "base_uri": "https://localhost:8080/"
        },
        "outputId": "6999c0d2-cc5e-41d4-964c-3a37a8b137a1"
      },
      "source": [
        "a: int = 0 \n",
        "\n",
        "while a < 6:  \n",
        "  print(a)\n",
        "\n",
        "  a += 1 "
      ],
      "execution_count": null,
      "outputs": [
        {
          "output_type": "stream",
          "text": [
            "0\n",
            "1\n",
            "2\n",
            "3\n",
            "4\n",
            "5\n"
          ],
          "name": "stdout"
        }
      ]
    },
    {
      "cell_type": "markdown",
      "metadata": {
        "id": "Cn5x0D5q2EIm"
      },
      "source": [
        "Pętli while (podobnie jak pętlę for) można również użyć do uzupełniania list, słowników czy zbiorów\n",
        "\n",
        "Stwórzmy pętlę while, która wypełni słownik parami, gdzie a będzie kluczem, a kwadrat a będzie wartością"
      ]
    },
    {
      "cell_type": "code",
      "metadata": {
        "colab": {
          "base_uri": "https://localhost:8080/"
        },
        "id": "oucqafJc1-_i",
        "outputId": "142f4812-4b17-4029-d7fc-7b7666e26b9e"
      },
      "source": [
        "from typing import Dict\n",
        "\n",
        "di: Dict[int, int] = {}  \n",
        "a: int = 0  \n",
        "\n",
        "while a < 6:  \n",
        "  di[a] = a ** 2 \n",
        "\n",
        "  a += 1  \n",
        "\n",
        "print(di)  "
      ],
      "execution_count": null,
      "outputs": [
        {
          "output_type": "stream",
          "text": [
            "{0: 0, 1: 1, 2: 4, 3: 9, 4: 16, 5: 25}\n"
          ],
          "name": "stdout"
        }
      ]
    },
    {
      "cell_type": "markdown",
      "metadata": {
        "id": "1VjK1uS93piZ"
      },
      "source": [
        "### Pętla w pętli\n",
        "\n",
        "Pętle while można również zagnieżdżać wewnątrz innych pętli, bez znaczenia czy jest to pętla for czy while\n",
        "\n",
        "Stwórzmy za pomocą pętli listę 2D (2 wiersze, 3 kolumny) wypełnioną wartościami całkowitymi od 0 do 2"
      ]
    },
    {
      "cell_type": "code",
      "metadata": {
        "colab": {
          "base_uri": "https://localhost:8080/"
        },
        "id": "TfYKIEI_241T",
        "outputId": "82d73e77-f929-4eeb-e5d3-4a80e90ca955"
      },
      "source": [
        "from typing import List\n",
        "\n",
        "li: List[List[int]] = []  \n",
        "i: int = 0  \n",
        "j: int = 0  \n",
        "\n",
        "while i < 2:  \n",
        "  tmp_row: List[int] = []  \n",
        "  j = 0  \n",
        "\n",
        "  while j < 3:  \n",
        "    tmp_row.append(j)  \n",
        "    j += 1  \n",
        "\n",
        "  li.append(tmp_row)  \n",
        "  i += 1 \n",
        "\n",
        "print(li)"
      ],
      "execution_count": null,
      "outputs": [
        {
          "output_type": "stream",
          "text": [
            "[[0, 1, 2], [0, 1, 2]]\n"
          ],
          "name": "stdout"
        }
      ]
    },
    {
      "cell_type": "markdown",
      "metadata": {
        "id": "IXVVsSDIDPHW"
      },
      "source": [
        "## Instrukcje sterujące petlą\n",
        "\n",
        "Czasami wykonanie pętli należy przerwać do następnego przebiegu lub zatrzymać całkowicie\n",
        "\n",
        "### Instrukcja continue\n",
        "\n",
        "Instrukcja continue pozwala przerwać wykonanie pętli i przejść do następnego przebiegu\n",
        "\n",
        "Stwórzmy pętlę, która wyświetli potęgę 2, 3 oraz 4 liczb z zakresu od 2 do 5 z wyjątkiem liczby 3."
      ]
    },
    {
      "cell_type": "code",
      "metadata": {
        "colab": {
          "base_uri": "https://localhost:8080/"
        },
        "id": "HPbhYQ333_Jd",
        "outputId": "6756eeaa-edd3-4330-9296-76b37a21fad8"
      },
      "source": [
        "for i in range(2, 6): \n",
        "  if i == 3:   \n",
        "    continue\n",
        "  \n",
        "  for j in range(2, 5):  \n",
        "    score: int = i ** j  \n",
        "    print(f'{i}^{j} = {score}')"
      ],
      "execution_count": null,
      "outputs": [
        {
          "output_type": "stream",
          "text": [
            "2^2 = 4\n",
            "2^3 = 8\n",
            "2^4 = 16\n",
            "4^2 = 16\n",
            "4^3 = 64\n",
            "4^4 = 256\n",
            "5^2 = 25\n",
            "5^3 = 125\n",
            "5^4 = 625\n"
          ],
          "name": "stdout"
        }
      ]
    },
    {
      "cell_type": "markdown",
      "metadata": {
        "id": "S4X4QLAlK5bj"
      },
      "source": [
        "### Instrukcja break\n",
        "\n",
        "Instrukcja break jest podobna do instrukcji continue. Różnica polega na tym, że pętla zostanie całkowicie zatrzymana\n",
        "\n",
        "Stwórzmy pętlę, wewnątrz której będą wczytywane liczby od użytkownika oraz wyświetlane ich kwadraty. Pętla zostanie przerwana gdy zostanie wprowadzona liczba 0"
      ]
    },
    {
      "cell_type": "code",
      "metadata": {
        "colab": {
          "base_uri": "https://localhost:8080/"
        },
        "id": "wXIuDZV_Kku_",
        "outputId": "1b3fc0d2-6931-48da-a554-1d8b48d464ee"
      },
      "source": [
        " \n",
        "while True:\n",
        "  value: int = int(input('podaj liczbe: '))  \n",
        "\n",
        "  if value == 0:\n",
        "    break\n",
        "\n",
        "  print(f'{value}^2 = {value ** 2}')\n",
        "\n",
        "print('koniec petli')"
      ],
      "execution_count": null,
      "outputs": [
        {
          "output_type": "stream",
          "text": [
            "podaj liczbe: 9\n",
            "9^2 = 81\n",
            "podaj liczbe: 7\n",
            "7^2 = 49\n",
            "podaj liczbe: 0\n",
            "koniec petli\n"
          ],
          "name": "stdout"
        }
      ]
    },
    {
      "cell_type": "markdown",
      "metadata": {
        "id": "xs5-l69aM3lL"
      },
      "source": [
        "## Zadania\n",
        "\n",
        "1. Przygotować pętlę, która będzie dodawała wartości wczytane z klawiatury do zbioru. Pętla zostanie przerwana gdy liczebność zbioru przekroczy 10 elementów\n",
        "2. Przygotować pętlę, która będzie dodawała wartości wczytane z klawiatury do listy. Pętla zostanie przerwana gdy użytkownik wpisze wartość znajdującą się w liście\n",
        "3. Utworzyć macierz jednostkową za pomocą listy dwuwymiarowej\n",
        "4. Utworzyć następującą macierz za pomocą pętli:\n",
        "  $$\n",
        "  \\begin{bmatrix}\n",
        "    0 & 4 & 8 & 12 \\\\\n",
        "    1 & 0 & 9 & 13 \\\\\n",
        "    2 & 6 & 0 & 14 \\\\\n",
        "    3 & 7 & 11 & 0 \\\\\n",
        "  \\end{bmatrix}\n",
        "  $$\n",
        "5. Utworzyć słownik, w którym kluczem będzie dowolne słowo w języku polskim, a wartością jego odpowiednik w języku angielskim. Wypełnić słownik kilkoma parami (klucz, wartość). Przygotować pętlę, w której będzie pobierana wartość od użytkownika zawierająca słowo do przetłumaczenia. W przypadku gdy dane słowo nie istnieje w słowniku, należy pobrać tłumaczenie od użytkownika. Przerwać pętlę po wpisaniu przez użytkownika słowa \"end\"."
      ]
    },
    {
      "cell_type": "code",
      "metadata": {
        "id": "gOlsHq6qL0PF"
      },
      "source": [
        ""
      ],
      "execution_count": null,
      "outputs": []
    }
  ]
}