{
  "nbformat": 4,
  "nbformat_minor": 0,
  "metadata": {
    "colab": {
      "name": "lab_5.ipynb",
      "provenance": [],
      "collapsed_sections": []
    },
    "kernelspec": {
      "name": "python3",
      "display_name": "Python 3"
    },
    "language_info": {
      "name": "python"
    }
  },
  "cells": [
    {
      "cell_type": "markdown",
      "metadata": {
        "id": "CRsB8G-Z9a09"
      },
      "source": [
        "# Lab 5 - klasy, obiekty i iteratory\n",
        "\n",
        "Python należy do rodziny języków zorientowanych obiektowo, co oznacza że z powodzeniem wspiera obiektowy paradygmat programowania. W języku python (prawie) wszystko jest obiektem, łącznie z wartościami liczbowymi, czy funkcjami.\n",
        "\n",
        "Klasę można rozumieć jako pewien projekt, np. projekt budowy domu. Według projektu można stworzyć wiele instancji(obiektów) takiego domu (wybudować go), czyli utworzyć obiekt.\n",
        "\n",
        "## Przykład prostej klasy\n",
        "\n",
        "Klasa projektu domu, który posiada jedynie liczbę okien, domyślnie wynoszącą 10. Liczba okien w klasie MyHouse jest przykładem atrybutu klasy, czyli zmiennej, która w każdym obiekcie klasy jest niezależna względem innych obiektów."
      ]
    },
    {
      "cell_type": "code",
      "metadata": {
        "id": "-WKp8WK29XzI"
      },
      "source": [
        "class MyHouse: \n",
        "    windows = 10"
      ],
      "execution_count": null,
      "outputs": []
    },
    {
      "cell_type": "markdown",
      "metadata": {
        "id": "z2RbgeGTB86Z"
      },
      "source": [
        "Według takiej klasy (projektu budowy domu) można utworzyć wiele instancji (realnych domów), czyli obiektów."
      ]
    },
    {
      "cell_type": "code",
      "metadata": {
        "id": "Pui2debDB3BR"
      },
      "source": [
        "\n",
        "house1 = MyHouse()\n",
        "house2 = MyHouse()\n",
        "house3 = MyHouse()"
      ],
      "execution_count": null,
      "outputs": []
    },
    {
      "cell_type": "markdown",
      "metadata": {
        "id": "Y6D6LOZjCDdr"
      },
      "source": [
        "Można sprawdzić ile okien ma każdy z trzech domów"
      ]
    },
    {
      "cell_type": "code",
      "metadata": {
        "colab": {
          "base_uri": "https://localhost:8080/"
        },
        "id": "ak4ilXgaB_iS",
        "outputId": "2e72a8c6-4272-44e4-bdb5-09a4dc2e1f50"
      },
      "source": [
        "\n",
        "\n",
        "print(f'Liczba okien w domu 1: {house1.windows}')\n",
        "print(f'Liczba okien w domu 2: {house2.windows}')\n",
        "print(f'Liczba okien w domu 3: {house3.windows}')"
      ],
      "execution_count": null,
      "outputs": [
        {
          "output_type": "stream",
          "text": [
            "Liczba okien w domu 1: 10\n",
            "Liczba okien w domu 2: 10\n",
            "Liczba okien w domu 3: 10\n"
          ],
          "name": "stdout"
        }
      ]
    },
    {
      "cell_type": "markdown",
      "metadata": {
        "id": "85CT1UJ1CvtP"
      },
      "source": [
        "Każdy z 3 domów ma po 10 okien, które są ustawione \"na sztywno\". Można zmodyfikować ilość okien."
      ]
    },
    {
      "cell_type": "code",
      "metadata": {
        "colab": {
          "base_uri": "https://localhost:8080/"
        },
        "id": "Ne7Rjy0KCGij",
        "outputId": "f91dd6e7-ee2c-4a5e-b6c9-9f042c3563ba"
      },
      "source": [
        "\n",
        "\n",
        "house1.windows = 20\n",
        "house2.windows = 5\n",
        "house3.windows = 15\n",
        "\n",
        "\n",
        "print(f'Liczba okien w domu 1: {house1.windows}')\n",
        "print(f'Liczba okien w domu 2: {house2.windows}')\n",
        "print(f'Liczba okien w domu 3: {house3.windows}')"
      ],
      "execution_count": null,
      "outputs": [
        {
          "output_type": "stream",
          "text": [
            "Liczba okien w domu 1: 20\n",
            "Liczba okien w domu 2: 5\n",
            "Liczba okien w domu 3: 15\n"
          ],
          "name": "stdout"
        }
      ]
    },
    {
      "cell_type": "markdown",
      "metadata": {
        "id": "xGVmyfMHC2Wq"
      },
      "source": [
        "Po modyfikacji każdy z 3 domów ma inną liczbę okien.\n",
        "\n",
        "## Inicjalizator\n",
        "\n",
        "Inicjalizator służy do nadawania własnych wartości atrybutom klas w momencie tworzenia ich instancji (obiektów). Inicjalizator jest funkcją o nazwie __init__(), która jest umieszczona wewnątrz klasy. Funkcja ta - tak jak inne funkcje - może przyjmować argumenty.\n",
        "\n",
        "Stwórzmy \"ciekawszy\" projekt domu, który będzie zawierał:\n",
        "- liczbę okien\n",
        "- liczbę drzwi\n",
        "- kolor elewacji\n",
        "\n",
        "Projekt tego domu umieścimy w klasie MyDreamHouse, która będzie zawierała atrybuty:\n",
        "- windows (liczba okien)\n",
        "- doors (liczba drzwi)\n",
        "- color (kolor elewacji)\n",
        "- age (wiek domu, tuż po wybudowaniu dom zawsze będzie miał 0 lat)\n",
        "\n",
        "Dodatkowo użyjemy inicjalizatora, który pozwoli nam spersonalizować nasz dom w momencie tworzenia obiektu (jego budowy). Wyjątkiem jest wiek domu. Tuż po wybudowaniu nie jesteśmy w stanie realnie zmienić jego wieku, gdyż zmienia się on sam z upływem czasu."
      ]
    },
    {
      "cell_type": "code",
      "metadata": {
        "id": "1-9HZDvsCz7S"
      },
      "source": [
        "\n",
        "\n",
        "class MyDreamHouse:\n",
        "    def __init__(self, window_count, door_count, color_name):\n",
        "        self.windows = window_count\n",
        "        self.doors = door_count\n",
        "        self.color = color_name\n",
        "        self.age = 0"
      ],
      "execution_count": null,
      "outputs": []
    },
    {
      "cell_type": "markdown",
      "metadata": {
        "id": "XO92vEm3G2xa"
      },
      "source": [
        "Mając projekt nowego domu, można stworzyć kilka obiektów według tego planu. Korzystając z inicjalizatora, możemy w momencie budowy spersonalizować ten dom.\n",
        "\n",
        "Niech domy będą następujące:\n",
        "- dream_house1 (dom 1): liczba okien - 6, liczba drzwi - 10, kolor - czerwony\n",
        "- dream_house2 (dom 2): liczba okien - 8, liczba drzwi - 5, kolor - zielony\n",
        "- dream_house3 (dom 3): liczba okien - 10, liczba drzwi - 15, kolor - niebieski"
      ]
    },
    {
      "cell_type": "code",
      "metadata": {
        "id": "XqlUja0EGjn2"
      },
      "source": [
        "\n",
        "\n",
        "dream_house1 = MyDreamHouse(6, 10, 'red')\n",
        "dream_house2 = MyDreamHouse(8, 5, 'green')\n",
        "dream_house3 = MyDreamHouse(10, 15, 'blue')"
      ],
      "execution_count": null,
      "outputs": []
    },
    {
      "cell_type": "markdown",
      "metadata": {
        "id": "X3lfGDrRHh_G"
      },
      "source": [
        "Mając już wybudowane 3 domy według nowego projektu, można wyswietlić ich atrybuty"
      ]
    },
    {
      "cell_type": "code",
      "metadata": {
        "colab": {
          "base_uri": "https://localhost:8080/"
        },
        "id": "r89B5xTtHBFm",
        "outputId": "e0d7b564-5921-4863-dbf4-f34872b4b7d8"
      },
      "source": [
        "\n",
        "\n",
        "print(f'Dom marzen 1: liczba okien - {dream_house1.windows}, liczba drzwi - {dream_house1.doors}, kolor: {dream_house1.color}, wiek: {dream_house1.age}')\n",
        "print(f'Dom marzen 2: liczba okien - {dream_house2.windows}, liczba drzwi - {dream_house2.doors}, kolor: {dream_house2.color}, wiek: {dream_house2.age}')\n",
        "print(f'Dom marzen 3: liczba okien - {dream_house3.windows}, liczba drzwi - {dream_house3.doors}, kolor: {dream_house3.color}, wiek: {dream_house1.age}')"
      ],
      "execution_count": null,
      "outputs": [
        {
          "output_type": "stream",
          "text": [
            "Dom marzen 1: liczba okien - 6, liczba drzwi - 10, kolor: red, wiek: 0\n",
            "Dom marzen 2: liczba okien - 8, liczba drzwi - 5, kolor: green, wiek: 0\n",
            "Dom marzen 3: liczba okien - 10, liczba drzwi - 15, kolor: blue, wiek: 0\n"
          ],
          "name": "stdout"
        }
      ]
    },
    {
      "cell_type": "markdown",
      "metadata": {
        "id": "laGBNWz_H1qx"
      },
      "source": [
        "Wiemy już, że atrybuty reprezentują pewien stan wewnętrzny obiektu. Dom mogą charakteryzować atrybuty takie jak liczba okien, kolor, czy wiek. Pewne atrybuty mogą się z czasem zmieniać, przykładowo po wyburzeniu jednej ze ścian liczba drzwi może ulec zmniejszeniu. Po upływie czasu wiek domu ulega zwiększeniu. Modyfikacji tych atrybutów można dokonać bezpośrednio na obiekcie."
      ]
    },
    {
      "cell_type": "code",
      "metadata": {
        "id": "ySnPJHKEHkpS"
      },
      "source": [
        "\n",
        "\n",
        "dream_house1.doors = 5"
      ],
      "execution_count": null,
      "outputs": []
    },
    {
      "cell_type": "markdown",
      "metadata": {
        "id": "MSlVMu-2H9SH"
      },
      "source": [
        "Po takiej modyfikacji 1. domu będzie on wyglądał następująco:"
      ]
    },
    {
      "cell_type": "code",
      "metadata": {
        "colab": {
          "base_uri": "https://localhost:8080/"
        },
        "id": "qyQGTm0MH6iD",
        "outputId": "126e8f96-7818-43c8-9a1d-f6fcdb22de7b"
      },
      "source": [
        "\n",
        "\n",
        "print(f'Dom marzen 1: liczba okien - {dream_house1.windows}, liczba drzwi - {dream_house1.doors}, kolor: {dream_house1.color}, wiek: {dream_house1.age}')"
      ],
      "execution_count": null,
      "outputs": [
        {
          "output_type": "stream",
          "text": [
            "Dom marzen 1: liczba okien - 6, liczba drzwi - 5, kolor: red, wiek: 0\n"
          ],
          "name": "stdout"
        }
      ]
    },
    {
      "cell_type": "markdown",
      "metadata": {
        "id": "m-E_mCqXiFUq"
      },
      "source": [
        "Reszta domów pozostała bez zmian:"
      ]
    },
    {
      "cell_type": "code",
      "metadata": {
        "id": "ifnJZ7_WH_5n",
        "colab": {
          "base_uri": "https://localhost:8080/"
        },
        "outputId": "52a7bfe5-c0dc-4693-a6db-3ba9cd2c8392"
      },
      "source": [
        "\n",
        "\n",
        "print(f'Dom marzen 2: liczba okien - {dream_house2.windows}, liczba drzwi - {dream_house2.doors}, kolor: {dream_house2.color}, wiek: {dream_house2.age}')\n",
        "print(f'Dom marzen 3: liczba okien - {dream_house3.windows}, liczba drzwi - {dream_house3.doors}, kolor: {dream_house3.color}, wiek: {dream_house1.age}')"
      ],
      "execution_count": null,
      "outputs": [
        {
          "output_type": "stream",
          "text": [
            "Dom marzen 2: liczba okien - 8, liczba drzwi - 5, kolor: green, wiek: 0\n",
            "Dom marzen 3: liczba okien - 10, liczba drzwi - 15, kolor: blue, wiek: 0\n"
          ],
          "name": "stdout"
        }
      ]
    },
    {
      "cell_type": "markdown",
      "metadata": {
        "id": "Pqm0n2iSiPtp"
      },
      "source": [
        "Metody\n",
        "\n",
        "Modyfikacji stanu wewnętrznego obiektu można dokonać również w bardziej \"elegancki\" sposób - za pomocą metod.\n",
        "\n",
        "Metody są funkcjami, które operują tylko na atrybutach poszczególnego obiektu i mogą je modyfikować. Oznacza to, że wywołując pewną metodę na obiekcie domu 1, odniesie się ona tylko i wyłącznie do wartości atrybutów tego obiektu. Pozostałe obiekty (domy) pozostaną bez zmian. Jeżeli metoda jest funkcją, to oznacza że może przyjmować dowolne argumenty. Inicjalizator (metoda __init()__) również jest metodą.\n",
        "\n",
        "Każda metoda posiada jeden dodatkowy argument (self), nawet jeżeli żadnych nie przyjmuje. Argument self musi być zawsze na początku listy argumentów danej metody i nie trzeba go przekazywać podczas wywoływania metody na obiekcie. Za pomocą argumentu self możemy odwołać się do stanu wewnętrznego obiektu z poziomu metody, która może być na nim wywołana.\n",
        "\n",
        "Stwórzmy 2 metody w klasie MyDreamHouse\n",
        "- metoda doors_and_windows zwróci zsumowaną liczebność drzwi i okien w danym domu\n",
        "- metoda age_it przyjmie w argumencie liczbowym ilośc lat i postarza dom o ten czas przyjęty w argumencie"
      ]
    },
    {
      "cell_type": "code",
      "metadata": {
        "id": "ddwPcM6hiHMa"
      },
      "source": [
        "\n",
        "\n",
        "class MyDreamHouse:\n",
        "    def __init__(self, window_count, door_count, color_name):\n",
        "        self.windows = window_count\n",
        "        self.doors = door_count\n",
        "        self.color = color_name\n",
        "        self.age = 0\n",
        "\n",
        "    def doors_and_windows(self):  \n",
        "        return self.windows + self.doors\n",
        "\n",
        "    def age_it(self, years): \n",
        "        self.age = self.age + years"
      ],
      "execution_count": null,
      "outputs": []
    },
    {
      "cell_type": "markdown",
      "metadata": {
        "id": "mfXRHEeKibWK"
      },
      "source": [
        "\n",
        "Mając już uaktualniony projekt budowy domu marzeń, możemy jeszcze raz stworzyć wedle niego 3 obiekty,"
      ]
    },
    {
      "cell_type": "code",
      "metadata": {
        "id": "R_zNZw0KiZL0"
      },
      "source": [
        "dream_house1 = MyDreamHouse(6, 10, 'red')\n",
        "dream_house2 = MyDreamHouse(8, 5, 'green')\n",
        "dream_house3 = MyDreamHouse(10, 15, 'blue')"
      ],
      "execution_count": null,
      "outputs": []
    },
    {
      "cell_type": "markdown",
      "metadata": {
        "id": "KVYv4ynWigjb"
      },
      "source": [
        "które wyglądają następująco"
      ]
    },
    {
      "cell_type": "code",
      "metadata": {
        "colab": {
          "base_uri": "https://localhost:8080/"
        },
        "id": "k1TLAwogidwG",
        "outputId": "738b6dc5-5e35-4c0a-e950-3a3dc4c95c6a"
      },
      "source": [
        "print(f'Dom marzen 1: liczba okien - {dream_house1.windows}, liczba drzwi - {dream_house1.doors}, kolor: {dream_house1.color}, wiek: {dream_house1.age}')\n",
        "print(f'Dom marzen 2: liczba okien - {dream_house2.windows}, liczba drzwi - {dream_house2.doors}, kolor: {dream_house2.color}, wiek: {dream_house2.age}')\n",
        "print(f'Dom marzen 3: liczba okien - {dream_house3.windows}, liczba drzwi - {dream_house3.doors}, kolor: {dream_house3.color}, wiek: {dream_house1.age}')"
      ],
      "execution_count": null,
      "outputs": [
        {
          "output_type": "stream",
          "text": [
            "Dom marzen 1: liczba okien - 6, liczba drzwi - 10, kolor: red, wiek: 0\n",
            "Dom marzen 2: liczba okien - 8, liczba drzwi - 5, kolor: green, wiek: 0\n",
            "Dom marzen 3: liczba okien - 10, liczba drzwi - 15, kolor: blue, wiek: 0\n"
          ],
          "name": "stdout"
        }
      ]
    },
    {
      "cell_type": "markdown",
      "metadata": {
        "id": "lo1fRbXMil3p"
      },
      "source": [
        "\n",
        "Teraz za pomocą metody doors_and_windows, możemy sprawdzić ile drzwi i okien ma każdy z tych domów."
      ]
    },
    {
      "cell_type": "code",
      "metadata": {
        "colab": {
          "base_uri": "https://localhost:8080/"
        },
        "id": "YWmDit9hijOp",
        "outputId": "215acd68-9842-4782-fd65-1f467aa7601c"
      },
      "source": [
        "\n",
        "\n",
        "print(f'Liczba drzwi i okien w domu 1: {dream_house1.doors_and_windows()}')\n",
        "print(f'Liczba drzwi i okien w domu 2: {dream_house2.doors_and_windows()}')\n",
        "print(f'Liczba drzwi i okien w domu 3: {dream_house3.doors_and_windows()}')"
      ],
      "execution_count": null,
      "outputs": [
        {
          "output_type": "stream",
          "text": [
            "Liczba drzwi i okien w domu 1: 16\n",
            "Liczba drzwi i okien w domu 2: 13\n",
            "Liczba drzwi i okien w domu 3: 25\n"
          ],
          "name": "stdout"
        }
      ]
    },
    {
      "cell_type": "markdown",
      "metadata": {
        "id": "Raww-bo0iqKj"
      },
      "source": [
        "Załóżmy, że minęły 2 lata od budowy domów. Możemy teraz każdy z nich postarzeć o 2 lata za pomocą metody age_it."
      ]
    },
    {
      "cell_type": "code",
      "metadata": {
        "id": "U1Y_XAn0ioIO"
      },
      "source": [
        "\n",
        "\n",
        "dream_house1.age_it(2)\n",
        "dream_house2.age_it(2)\n",
        "dream_house3.age_it(2)"
      ],
      "execution_count": null,
      "outputs": []
    },
    {
      "cell_type": "markdown",
      "metadata": {
        "id": "kxuJxqpjiuRq"
      },
      "source": [
        "Zobaczmy, jak każdy z nich zmienił się przez ten czas:"
      ]
    },
    {
      "cell_type": "code",
      "metadata": {
        "colab": {
          "base_uri": "https://localhost:8080/"
        },
        "id": "hPboTA1gismR",
        "outputId": "23892f61-7ac4-4b31-c04b-0e3af5f11290"
      },
      "source": [
        "print(f'Dom marzen 1: liczba okien - {dream_house1.windows}, liczba drzwi - {dream_house1.doors}, kolor: {dream_house1.color}, wiek: {dream_house1.age}')\n",
        "print(f'Dom marzen 2: liczba okien - {dream_house2.windows}, liczba drzwi - {dream_house2.doors}, kolor: {dream_house2.color}, wiek: {dream_house2.age}')\n",
        "print(f'Dom marzen 3: liczba okien - {dream_house3.windows}, liczba drzwi - {dream_house3.doors}, kolor: {dream_house3.color}, wiek: {dream_house1.age}')"
      ],
      "execution_count": null,
      "outputs": [
        {
          "output_type": "stream",
          "text": [
            "Dom marzen 1: liczba okien - 6, liczba drzwi - 10, kolor: red, wiek: 2\n",
            "Dom marzen 2: liczba okien - 8, liczba drzwi - 5, kolor: green, wiek: 2\n",
            "Dom marzen 3: liczba okien - 10, liczba drzwi - 15, kolor: blue, wiek: 2\n"
          ],
          "name": "stdout"
        }
      ]
    },
    {
      "cell_type": "markdown",
      "metadata": {
        "id": "rdzmSXiBkez0"
      },
      "source": [
        "### Typowanie w programowaniu obiektowym\n",
        "\n",
        "Wszystkim składnikom klas, jak i ich instancjom można nadawać odpowiednie typy wartości. Pola w klasach typujemy jak klasyczne zmienne, metody jak klasyczne funkcje. Instancjom klas nadajemy typy zgodne z klasami.\n",
        "\n",
        "Przykład prawidłowo otypowanej klasy wraz z utworzoną instancją:"
      ]
    },
    {
      "cell_type": "code",
      "metadata": {
        "id": "phkNbKUv-wT8"
      },
      "source": [
        "\n",
        "\n",
        "class Phone:\n",
        "  manufacturer: str \n",
        "  model: str\n",
        "  owner_id: int\n",
        "\n",
        "  \n",
        "  def __init__(self, manufacturer: str, model: str, owner: int) -> None:\n",
        "    self.manufacturer = manufacturer\n",
        "    self.model = model\n",
        "    self.owner_id = owner\n",
        "\n",
        "  def get_phone_name(self) -> str:  \n",
        "    return f'{self.manufacturer} {self.model}'\n",
        "\n",
        "  def change_owner(owner_id: int) -> None:\n",
        "    if owner_id == self.owner_id:  \n",
        "      print('nowy wlasciciel nie moze byc wlascicielem dotychczasowym')\n",
        "\n",
        "    self.owner_id = owner_id"
      ],
      "execution_count": null,
      "outputs": []
    },
    {
      "cell_type": "code",
      "metadata": {
        "id": "3JSOLwmV_zOe"
      },
      "source": [
        "iphone_x: Phone = Phone('Apple', 'iPhone X', 1)\n",
        "iphone_xs: Phone = Phone('Apple', 'iPhone XS', 2)"
      ],
      "execution_count": null,
      "outputs": []
    },
    {
      "cell_type": "markdown",
      "metadata": {
        "id": "MERt7EyMix6v"
      },
      "source": [
        "## Iteratory\n",
        "\n",
        "Iterator jest obiektem, który przechowuje skończoną liczbę obiektów oraz można dokonać na nim iteracji za pomocą dowolnej pętli. \n",
        "\n",
        "Iteratory, podobnie jak generatory, zwracają nowe wartości po wywołaniu funkcji next na instancji. Różnica tkwi w sposobie implementacji oraz w sposobie wykonywania metod. Iterator zawiera dwie dodatkowe metody: \\_\\_iter\\_\\_(), która wywołuje się w momencie tworzenia nowego obiektu iteratora oraz metoda \\_\\_next\\_\\_(), która jest wywoływana w momencie wykorzystania funkcji next() na instancji iteratora.\n",
        "\n",
        "Stwórzmy prosty iterator, który będzie zwracał wartości zwiększane o 1 począwszy od 1."
      ]
    },
    {
      "cell_type": "code",
      "metadata": {
        "id": "dydpVYmriwVt"
      },
      "source": [
        "\n",
        "from typing import Iterator  \n",
        "\n",
        "class SimpleIterator:\n",
        "  i: int  \n",
        "\n",
        "  def __iter__(self) -> Iterator[int]:  \n",
        "    self.i = 1\n",
        "\n",
        "    return self\n",
        "\n",
        "  def __next__(self) -> int:  \n",
        "    result: int = self.i\n",
        "    self.i += 1\n",
        "\n",
        "    return result"
      ],
      "execution_count": null,
      "outputs": []
    },
    {
      "cell_type": "code",
      "metadata": {
        "colab": {
          "base_uri": "https://localhost:8080/"
        },
        "id": "b1ybTUTikwdU",
        "outputId": "d8f7f4b5-11ce-4ddf-894e-ef22702e3c93"
      },
      "source": [
        "iter_obj: SimpleIterator = SimpleIterator()  \n",
        "iterator: SimpleIterator = iter(iter_obj)  \n",
        "\n",
        "print(next(iterator))  \n",
        "print(next(iterator))\n",
        "print(next(iterator))\n",
        "print(next(iterator))"
      ],
      "execution_count": null,
      "outputs": [
        {
          "output_type": "stream",
          "text": [
            "1\n",
            "2\n",
            "3\n",
            "4\n"
          ],
          "name": "stdout"
        }
      ]
    },
    {
      "cell_type": "markdown",
      "metadata": {
        "id": "1AVYsoLSLIkO"
      },
      "source": [
        "Iteratory można również wykorzystać w celu odmiennego sposobu iteracji po kontenerach danych, takich jak listy, słowniki, krotki, itd.\n",
        "\n",
        "Przykładowy iterator zwracający wartości z listy znajdujące się na pozycjach parzystych:"
      ]
    },
    {
      "cell_type": "code",
      "metadata": {
        "id": "NtgeZAaCk4TL"
      },
      "source": [
        "from typing import Iterator, List, Any  \n",
        "\n",
        "class ListEvenIterator: \n",
        "  data: List[Any]  \n",
        "  i: int  \n",
        "\n",
        "  def __init__(self, data: List[int]) -> None:  \n",
        "    self.data = data\n",
        "\n",
        "  def __iter__(self) -> Iterator[Any]:  \n",
        "    self.i = 0  \n",
        "\n",
        "    return self\n",
        "\n",
        "  def __next__(self) -> Any:  \n",
        "    position: int = self.i  \n",
        "    self.i += 2  \n",
        "\n",
        "    if position >= len(self.data) - 1:  \n",
        "      raise StopIteration  \n",
        "\n",
        "    return self.data[position]  "
      ],
      "execution_count": null,
      "outputs": []
    },
    {
      "cell_type": "code",
      "metadata": {
        "colab": {
          "base_uri": "https://localhost:8080/"
        },
        "id": "0oGUmjaDOHgu",
        "outputId": "ed683b81-0fbd-4813-f5d0-4d8e93ec62b3"
      },
      "source": [
        "\n",
        "li: List[Any] = ['jeden', 2, 'trzy', 'cztery', 5.0, 6, 7, 8, 9.0, 'dziesiec']  \n",
        "\n",
        "\n",
        "list_iter_obj: ListEvenIterator = ListEvenIterator(li)\n",
        "iterator: ListEvenIterator = iter(list_iter_obj)  \n",
        "\n",
        "for element in iterator:  \n",
        "  print(element)"
      ],
      "execution_count": null,
      "outputs": [
        {
          "output_type": "stream",
          "text": [
            "jeden\n",
            "trzy\n",
            "5.0\n",
            "7\n",
            "9.0\n"
          ],
          "name": "stdout"
        }
      ]
    },
    {
      "cell_type": "markdown",
      "metadata": {
        "id": "IzGVFyd8XXgl"
      },
      "source": [
        "## Zadania\n",
        "\n",
        "1. Utworzyć klasę Square (kwadrat), która będzie zawierała inicjalizator ustawiający atrybut liczbowy side (długość boku), oraz metody:\n",
        "  - area, która zwróci pole tego kwadratu\n",
        "  - perimeter, która zwróci obwód tego kwadratu\n",
        "\n",
        "2. Utworzyć klasę Traingle (trójkąt równoramienny), która będzie zawierała inicjalizator ustawiający atrybuty liczbowe:\n",
        "  - side (długość boku)\n",
        "  - base (podstawa),\n",
        "  - oraz metody:\n",
        "  - area, która zwróci pole tego trójkąta\n",
        "  - perimeter, która zwróci obwód tego trójkąta\n",
        "\n",
        "3. Za pomocą pętli utworzyć listy:\n",
        "  - 10 kwadratów dla długości boków od 11 do 20\n",
        "  - 25 trójkątów dla długości boków od 6 do 10 i wysokości od 15 do 19\n",
        "  - Wyświetlić pola i obwody kazdej z tych figur\n",
        "\n",
        "4. Utworzyć klasę Tree (drzewo), która będzie zawierała inicjalizator ustawiający następujące atrybuty:\n",
        "  - name (imię drzewa)\n",
        "  - height (wysokość drzewa [m])\n",
        "  - leafs (liczba liści),\n",
        "  - oraz metody:\n",
        "  - grow_up (rośnij wzwyż), która przyjmie argument liczbowy w postaci wysokości do dodania, a następnie zwiększy wysokość tego drzewa\n",
        "  - grow_wide (rośnij wszerz), która przyjmie argument liczbowy w postaci liczby nowych liści,\n",
        "  - show, która wyświetli na ekranie wszystkie parametry drzewa wraz z ich wartościami\n",
        "  - Utworzyć 5 takich drzew (5 obiektów) i wyświetlić ich stan wewnętrzny, a następnie dla dwóch wybranych drzew zwiększyć wysokość i jeszcze raz wyświetlić ich stan wewnętrzny\n",
        "\n",
        "5. Utworzyć klasę Matrix (macierz), która będzie zawierała atrybut przechowujący wartości macierzy w postaci listy dwuwymiarowej. Umieścić w klasie następujące metody:\n",
        "  - inicjalizator, który przyjmie dowolną liczbę kolumn macierzy (przekazywane jako listy)\n",
        "  - metodę transpose zwracającą macierz transponowaną\n",
        "  - size zwracającą wymiary macierzy\n",
        "  - set_value przyjmującą pozycję oraz wartość do umieszczenia we wskazanej pozycji\n",
        "  - get_value przyjmująca pozycję i zwracającą wartość znajdującą się we wskazanej pozycji\n",
        "  - is_identity zwracającą wartość logiczną informująca czy macierz w instancji jest jednostkowa\n",
        "  - wykorzystać metodę \\_\\_add\\_\\_ (https://docs.python.org/3/library/operator.html#operator.add) do stworzenia operatora pozwalającego na zsumowanie dwóch macierzy w postaci obiektów klasy Matrix\n",
        "\n",
        "6. Utworzyć klasę Time z atrybutami hours oraz minutes typu całkowitego. Utworzyć w klasie następujące metody:\n",
        "  - inicjalizator, który ustawi wartości atrybutów hours oraz minutes\n",
        "  - add_time, która przyjmie argumenty całkowitoliczbowe hours oraz minutes i doda je do wewnętrznego stanu klasy\n",
        "  - display, która zwróci bieżący stan wewnętrzny obiektu, czyli godziny i minuty\n",
        "  - display_minutes, która zwróci bieżący stan obiektu w postaci minut\n",
        "\n",
        "7. Utworzyć iterator, który będzie zwracał liczby pierwsze\n",
        "\n",
        "8. Utworzyć iterator, który przyjmie listę wartości całkowitych i dla każdego elementu będzie zwracał sumę wszystkich wartości poprzednich łącznie z wartością bieżącą\n",
        "\n",
        "9. Utworzyć iterator, który przyjmie dowolną liczbę argumentów przekazanych przez nazwę i będzie zwracał tylko te wartości argumentów, których pierwsza litera nazwy znajduje się na parzystych pozycjach alfabetu. Przykładowo: litera a znajduje się na pozycji nieparzystej (1), litera b znajduje się na pozycji parzystej (2), itd.\n",
        "\n",
        "10. Utworzyć iterator, który przyjmie dwie listy wartości całkowitych o takiej samej długości i będzie zwracał iloczyny skalarne wartości znajdujących się pozycjach poprzednich łącznie z wartością bieżącą"
      ]
    },
    {
      "cell_type": "code",
      "metadata": {
        "id": "V3flxYOEfuxZ"
      },
      "source": [
        " "
      ],
      "execution_count": null,
      "outputs": []
    }
  ]
}