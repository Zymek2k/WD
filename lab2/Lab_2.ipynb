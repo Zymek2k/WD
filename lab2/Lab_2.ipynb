{
  "nbformat": 4,
  "nbformat_minor": 0,
  "metadata": {
    "colab": {
      "name": "Lab_2.ipynb",
      "provenance": [],
      "collapsed_sections": [],
      "toc_visible": true
    },
    "kernelspec": {
      "name": "python3",
      "display_name": "Python 3"
    }
  },
  "cells": [
    {
      "cell_type": "markdown",
      "metadata": {
        "id": "4X0S-JnZFIfK"
      },
      "source": [
        "# Lab 2 - podstawy języka Python: zmienne i operacje na nich\n",
        "\n",
        "##Metody wyświetlania danych (instrukcje wyjścia)\n",
        "\n",
        "Instrukcje wyjścia służą do interakcji z użytkownikiem poprzez wyświetlanie danych. Podstawową instrukcją wyjścia w języku Python jest funkcja print().\n",
        "\n",
        "\n"
      ]
    },
    {
      "cell_type": "markdown",
      "metadata": {
        "id": "n0m7cjJVaGmz"
      },
      "source": [
        "### Wyświetlanie tekstu stałego \r\n",
        "\r\n",
        "W celu wyświetlenia tekstu należy użyć funkcji print(), tekst, który ma zostać wyświetlony należy umieścić w '  ' lub w \"  \".\r\n",
        "\r\n"
      ]
    },
    {
      "cell_type": "code",
      "metadata": {
        "colab": {
          "base_uri": "https://localhost:8080/"
        },
        "id": "6QZkAd9RFICt",
        "outputId": "393dd822-b2ea-4862-e13b-c6bca70dc311"
      },
      "source": [
        "print('hello world')"
      ],
      "execution_count": null,
      "outputs": [
        {
          "output_type": "stream",
          "text": [
            "hello world\n"
          ],
          "name": "stdout"
        }
      ]
    },
    {
      "cell_type": "markdown",
      "metadata": {
        "id": "9XFXxd-kFcjn"
      },
      "source": [
        "### Wyświetlanie tekstu ze zmiennej\r\n",
        "\r\n",
        "W celu wyświetlenia tekstu ze zmiennej należy utworzyć zmienną i po znaku = przypisać jej tekst, który ma zostać wyświetlony. Następnie przy użyciu funkcji print() wyświetlić wartość zmiennej."
      ]
    },
    {
      "cell_type": "code",
      "metadata": {
        "colab": {
          "base_uri": "https://localhost:8080/"
        },
        "id": "DcDkQLQ8Fanc",
        "outputId": "b4e9e48d-779a-4a52-d281-a8b477f28514"
      },
      "source": [
        "var = 'Hello world'\n",
        "\n",
        "print(var)"
      ],
      "execution_count": null,
      "outputs": [
        {
          "output_type": "stream",
          "text": [
            "Hello world\n"
          ],
          "name": "stdout"
        }
      ]
    },
    {
      "cell_type": "markdown",
      "metadata": {
        "id": "i5HOuitWFmDb"
      },
      "source": [
        "##Wartości liczbowe\n",
        "\n",
        "### statyczna wartośc liczbowa\n",
        "\n",
        "W celu wyświetlenia statycznej wartość liczbowej należy przekazać tą wartość."
      ]
    },
    {
      "cell_type": "code",
      "metadata": {
        "colab": {
          "base_uri": "https://localhost:8080/"
        },
        "id": "zDPWqIdcFiMm",
        "outputId": "a09acfd4-9081-43b3-b7ad-260f3141aa0b"
      },
      "source": [
        "print(10)"
      ],
      "execution_count": null,
      "outputs": [
        {
          "output_type": "stream",
          "text": [
            "10\n"
          ],
          "name": "stdout"
        }
      ]
    },
    {
      "cell_type": "markdown",
      "metadata": {
        "id": "WpunKpRlGKD-"
      },
      "source": [
        "### Wartość liczbowa ze zmiennej\r\n",
        "\r\n",
        "W celu wyświetlenia wartości liczbowej ze zmiennej należy utworzyć zmienną i po znaku = przypisać jej wartość, która ma zostać wyświetlona. Następnie przy użyciu funkcji print() wyświetlić wartość zmiennej."
      ]
    },
    {
      "cell_type": "code",
      "metadata": {
        "colab": {
          "base_uri": "https://localhost:8080/"
        },
        "id": "gQO22gmIFpSv",
        "outputId": "06d9f3e7-56a2-481b-f950-d58b945c48f2"
      },
      "source": [
        "var = 10\n",
        "\n",
        "print(var)"
      ],
      "execution_count": null,
      "outputs": [
        {
          "output_type": "stream",
          "text": [
            "10\n"
          ],
          "name": "stdout"
        }
      ]
    },
    {
      "cell_type": "markdown",
      "metadata": {
        "id": "yI_1s2WOH2xs"
      },
      "source": [
        "### Wyświetlanie wartości wyrażenia\r\n",
        "\r\n",
        "Do funkcji print należy przekazac proste wyrażenie arytymetyczne. W wyniku tego wyświetli się wartość wyrażenia."
      ]
    },
    {
      "cell_type": "code",
      "metadata": {
        "colab": {
          "base_uri": "https://localhost:8080/"
        },
        "id": "JLUQxS9KGN6D",
        "outputId": "6f211555-f3e5-4def-a3bf-0567237fe992"
      },
      "source": [
        "print(2 + 2)"
      ],
      "execution_count": null,
      "outputs": [
        {
          "output_type": "stream",
          "text": [
            "4\n"
          ],
          "name": "stdout"
        }
      ]
    },
    {
      "cell_type": "markdown",
      "metadata": {
        "id": "tYgCnNsQIcZB"
      },
      "source": [
        "## Zmienne i metody ich inicjalizacji\n",
        "\n",
        "W języku Python zmiennie inicjalizujemy podstwiając do nich wartości po  znaku =.\n",
        "\n",
        "###Zmienna tekstowa\n",
        "\n",
        "Do zmiennej należy podtswić tekst zapisany w ' '  lub \" \"."
      ]
    },
    {
      "cell_type": "code",
      "metadata": {
        "colab": {
          "base_uri": "https://localhost:8080/"
        },
        "id": "I0pB6FPZH-gD",
        "outputId": "856fd599-7b1d-4983-e6fe-2269b9a60f26"
      },
      "source": [
        "var_str = 'to jest tekst'\n",
        "\n",
        "print(var_str)"
      ],
      "execution_count": null,
      "outputs": [
        {
          "output_type": "stream",
          "text": [
            "to jest tekst\n"
          ],
          "name": "stdout"
        }
      ]
    },
    {
      "cell_type": "code",
      "metadata": {
        "colab": {
          "base_uri": "https://localhost:8080/"
        },
        "id": "28m1DxnuIxwo",
        "outputId": "a00bb336-718b-434e-f199-63a6f726226b"
      },
      "source": [
        "var_str = 'to jest \\'kolejny\\' tekst'\n",
        "\n",
        "print(var_str)"
      ],
      "execution_count": null,
      "outputs": [
        {
          "output_type": "stream",
          "text": [
            "to jest 'kolejny' tekst\n"
          ],
          "name": "stdout"
        }
      ]
    },
    {
      "cell_type": "markdown",
      "metadata": {
        "id": "T79tAdJbJDpe"
      },
      "source": [
        "Zmienna całkowitoliczbowa\r\n",
        "\r\n",
        "Do zmiennej po zanku = należy podstawić liczbę całkowitą."
      ]
    },
    {
      "cell_type": "code",
      "metadata": {
        "colab": {
          "base_uri": "https://localhost:8080/"
        },
        "id": "oImmLvUdI2oJ",
        "outputId": "fc34294a-d490-45e2-9f4b-bf6b281bbc02"
      },
      "source": [
        "var_int = 2611\n",
        "\n",
        "print(var_int)"
      ],
      "execution_count": null,
      "outputs": [
        {
          "output_type": "stream",
          "text": [
            "2611\n"
          ],
          "name": "stdout"
        }
      ]
    },
    {
      "cell_type": "markdown",
      "metadata": {
        "id": "x52sQl4rJPO6"
      },
      "source": [
        "Zmienna rzeczywista\r\n",
        "\r\n",
        "Do zmiennej po znaku = należy podstawić liczbę rzeczywistą.\r\n",
        "Alternatywnie można wpisać wartość zakończoną separatorem miejsc dziesiętnych, wówczas 0 zostanie automatycznie dodane przez interpreter. Można również użyć funkjci float(), do której zostanie przekazana wartość całkowita."
      ]
    },
    {
      "cell_type": "code",
      "metadata": {
        "colab": {
          "base_uri": "https://localhost:8080/"
        },
        "id": "5eCYLX4PJMmR",
        "outputId": "74517b39-3f31-481e-8ecb-b1e35f5993f4"
      },
      "source": [
        "var_float_0 = 10.0\n",
        "var_float_1 = 10.\n",
        "var_float_2 = float(10)\n",
        "\n",
        "print(var_float_0)\n",
        "print(var_float_1)\n",
        "print(var_float_2)"
      ],
      "execution_count": null,
      "outputs": [
        {
          "output_type": "stream",
          "text": [
            "10.0\n",
            "10.0\n",
            "10.0\n"
          ],
          "name": "stdout"
        }
      ]
    },
    {
      "cell_type": "markdown",
      "metadata": {
        "id": "t7AVb275b7E-"
      },
      "source": [
        "Zmienna logiczna\r\n",
        "\r\n",
        "Do zmiennej podstawiamy wartość logiczną True(Prawda) lub False(Fałsz)."
      ]
    },
    {
      "cell_type": "code",
      "metadata": {
        "colab": {
          "base_uri": "https://localhost:8080/"
        },
        "id": "DS4-jwi2b8eU",
        "outputId": "e59cfc55-50c7-4851-ba92-74ee4ede506d"
      },
      "source": [
        "var_bool_0 = False\n",
        "var_bool_1 = True\n",
        "\n",
        "print(var_bool_0)\n",
        "print(var_bool_1)\n",
        "print(var_bool_0 == var_bool_1)"
      ],
      "execution_count": null,
      "outputs": [
        {
          "output_type": "stream",
          "text": [
            "False\n",
            "True\n",
            "False\n"
          ],
          "name": "stdout"
        }
      ]
    },
    {
      "cell_type": "markdown",
      "metadata": {
        "id": "0e5lQCXfJj7o"
      },
      "source": [
        "## Rzutowanie typów danych (konwersja)\n",
        "\n",
        "Zdarza się, że potrzebny jest inny typ danych niż jest dostępny. Pyhton uodstępnia możliwość przekonwertowania typu wartości znajdującego się w zmiennej na iny typ.\n",
        "\n",
        "### Pobieranie typów zmiennych\n",
        "\n",
        "Przed dokonaniem rzutowania istotnym korkiem jest sprawdzenie, jakiego typu wartość znajduje się w zmiennej.\n",
        "Można tego dokonać używając funkcji type().\n"
      ]
    },
    {
      "cell_type": "code",
      "metadata": {
        "colab": {
          "base_uri": "https://localhost:8080/"
        },
        "id": "7EKhYAD6JZ25",
        "outputId": "9766afa0-8152-402a-ef28-08086a666d7f"
      },
      "source": [
        "a = 20\n",
        "b = 80.1\n",
        "c = 'tekst'\n",
        "\n",
        "type_of_a = type(a)\n",
        "type_of_b = type(b)\n",
        "type_of_c = type(c)\n",
        "\n",
        "print(type_of_a)\n",
        "print(type_of_b)\n",
        "print(type_of_c)"
      ],
      "execution_count": null,
      "outputs": [
        {
          "output_type": "stream",
          "text": [
            "<class 'int'>\n",
            "<class 'float'>\n",
            "<class 'str'>\n"
          ],
          "name": "stdout"
        }
      ]
    },
    {
      "cell_type": "markdown",
      "metadata": {
        "id": "iHdWA4-rbxiW"
      },
      "source": [
        "### Sprawdzanie typów zmiennych\r\n",
        "\r\n",
        "Alternatywną metodą jest sprawdzenie, czy wartość znajdująca się w zmiennej jest tego typu, którego oczekujemy.\r\n",
        "Służy do tego funkcja isinstance().\r\n"
      ]
    },
    {
      "cell_type": "code",
      "metadata": {
        "colab": {
          "base_uri": "https://localhost:8080/"
        },
        "id": "m0uR3DX3bZTU",
        "outputId": "c83e447a-de05-462c-fcea-d467c5a025c9"
      },
      "source": [
        "print(isinstance(a, int))\n",
        "print(isinstance(c, float))"
      ],
      "execution_count": null,
      "outputs": [
        {
          "output_type": "stream",
          "text": [
            "True\n",
            "False\n"
          ],
          "name": "stdout"
        }
      ]
    },
    {
      "cell_type": "markdown",
      "metadata": {
        "id": "mdamFlxqcrMM"
      },
      "source": [
        "### Konwersja typów zmiennych\r\n",
        "\r\n"
      ]
    },
    {
      "cell_type": "code",
      "metadata": {
        "id": "U9D9IYwScmvc"
      },
      "source": [
        "var_float = 10.\n",
        "var_int = 20\n",
        "var_int_bool = 0\n",
        "var_str = '90'\n",
        "var_bool = True"
      ],
      "execution_count": null,
      "outputs": []
    },
    {
      "cell_type": "markdown",
      "metadata": {
        "id": "Dn-Iv7NhdKDB"
      },
      "source": [
        "Konwersja z typu zmiennoprzecinkowego (float) na typ całkowitoliczbowy (int)."
      ]
    },
    {
      "cell_type": "code",
      "metadata": {
        "colab": {
          "base_uri": "https://localhost:8080/"
        },
        "id": "RU-Ls2cUdJN1",
        "outputId": "203a521b-de91-45fb-a1ad-95ba1ac76218"
      },
      "source": [
        "float_to_int = int(var_float)\n",
        "\n",
        "print(type(float_to_int))\n",
        "print(type(var_float))\n",
        "\n",
        "print('-------------------')\n",
        "\n",
        "print(float_to_int)\n",
        "print(var_float)"
      ],
      "execution_count": null,
      "outputs": [
        {
          "output_type": "stream",
          "text": [
            "<class 'int'>\n",
            "<class 'float'>\n",
            "-------------------\n",
            "10\n",
            "10.0\n"
          ],
          "name": "stdout"
        }
      ]
    },
    {
      "cell_type": "markdown",
      "metadata": {
        "id": "bPbtirdGdbL4"
      },
      "source": [
        "Konwersja z typu całkowitoliczbowego (int) na typ zmiennoprzecinkowy (float)."
      ]
    },
    {
      "cell_type": "code",
      "metadata": {
        "colab": {
          "base_uri": "https://localhost:8080/"
        },
        "id": "l-nQBfzrdYto",
        "outputId": "e7918bba-968a-405b-a103-a9a6b8b39d9e"
      },
      "source": [
        "int_to_float = float(var_int)\n",
        "\n",
        "print(type(var_int))\n",
        "print(type(int_to_float))\n",
        "\n",
        "print('-------------------')\n",
        "\n",
        "print(var_int)\n",
        "print(int_to_float)"
      ],
      "execution_count": null,
      "outputs": [
        {
          "output_type": "stream",
          "text": [
            "<class 'int'>\n",
            "<class 'float'>\n",
            "-------------------\n",
            "20\n",
            "20.0\n"
          ],
          "name": "stdout"
        }
      ]
    },
    {
      "cell_type": "markdown",
      "metadata": {
        "id": "MItqL8Gx81yZ"
      },
      "source": [
        "Konwersja z typu tekstowego(str) na typ calkowitoliczboy (int).\n",
        "\n",
        "W  tym przypadku należy uważać ponieważ tekst przy takiej konwersji powinien zawierać jedynie cyfry."
      ]
    },
    {
      "cell_type": "code",
      "metadata": {
        "id": "LsFkqoWgdmaq",
        "colab": {
          "base_uri": "https://localhost:8080/"
        },
        "outputId": "b4063876-1edc-470d-e0a6-e17eb0f3961e"
      },
      "source": [
        "str_to_int = int(var_str)\n",
        "\n",
        "print(type(var_str))\n",
        "print(type(str_to_int))\n",
        "\n",
        "print('-------------------')\n",
        "\n",
        "print(var_str)\n",
        "print(str_to_int)"
      ],
      "execution_count": null,
      "outputs": [
        {
          "output_type": "stream",
          "text": [
            "<class 'str'>\n",
            "<class 'int'>\n",
            "-------------------\n",
            "90\n",
            "90\n"
          ],
          "name": "stdout"
        }
      ]
    },
    {
      "cell_type": "code",
      "metadata": {
        "colab": {
          "base_uri": "https://localhost:8080/",
          "height": 164
        },
        "id": "zI4Y5HjM9l50",
        "outputId": "14da0f9e-7223-4ccf-ff01-40e0e5629039"
      },
      "source": [
        "int('to jest 2 mieszany tekst 1')"
      ],
      "execution_count": null,
      "outputs": [
        {
          "output_type": "error",
          "ename": "ValueError",
          "evalue": "ignored",
          "traceback": [
            "\u001b[0;31m---------------------------------------------------------------------------\u001b[0m",
            "\u001b[0;31mValueError\u001b[0m                                Traceback (most recent call last)",
            "\u001b[0;32m<ipython-input-4-bc1b561675dd>\u001b[0m in \u001b[0;36m<module>\u001b[0;34m()\u001b[0m\n\u001b[0;32m----> 1\u001b[0;31m \u001b[0mint\u001b[0m\u001b[0;34m(\u001b[0m\u001b[0;34m'to jest 2 mieszany tekst 1'\u001b[0m\u001b[0;34m)\u001b[0m\u001b[0;34m\u001b[0m\u001b[0;34m\u001b[0m\u001b[0m\n\u001b[0m",
            "\u001b[0;31mValueError\u001b[0m: invalid literal for int() with base 10: 'to jest 2 mieszany tekst 1'"
          ]
        }
      ]
    },
    {
      "cell_type": "markdown",
      "metadata": {
        "id": "yZwZg0mt9yL9"
      },
      "source": [
        "Konwersja z typu tekstowego (str) na typ zmiennoprzecinkowy (float)."
      ]
    },
    {
      "cell_type": "code",
      "metadata": {
        "colab": {
          "base_uri": "https://localhost:8080/"
        },
        "id": "SxbsLzoB9vBd",
        "outputId": "8e3864a3-a679-4a1c-a4be-cc773c4bd284"
      },
      "source": [
        "str_to_float = float(var_str)\n",
        "\n",
        "print(type(var_str))\n",
        "print(type(str_to_float))\n",
        "\n",
        "print('-------------------')\n",
        "\n",
        "print(var_str)\n",
        "print(str_to_float)"
      ],
      "execution_count": null,
      "outputs": [
        {
          "output_type": "stream",
          "text": [
            "<class 'str'>\n",
            "<class 'float'>\n",
            "-------------------\n",
            "90\n",
            "90.0\n"
          ],
          "name": "stdout"
        }
      ]
    },
    {
      "cell_type": "markdown",
      "metadata": {
        "id": "fClF4jf29_4m"
      },
      "source": [
        "Konwersja z typu całkowitoliczbowego (int) na typ logiczny (bool)."
      ]
    },
    {
      "cell_type": "code",
      "metadata": {
        "colab": {
          "base_uri": "https://localhost:8080/"
        },
        "id": "4O1RgFA-97wE",
        "outputId": "e5b8f388-7c07-48d3-db5a-1f8d632859ca"
      },
      "source": [
        "int_to_bool = bool(var_int_bool)\n",
        "\n",
        "print(type(var_int_bool))\n",
        "print(type(int_to_bool))\n",
        "\n",
        "print('-------------------')\n",
        "\n",
        "print(var_int_bool)\n",
        "print(int_to_bool)"
      ],
      "execution_count": null,
      "outputs": [
        {
          "output_type": "stream",
          "text": [
            "<class 'int'>\n",
            "<class 'bool'>\n",
            "-------------------\n",
            "0\n",
            "False\n"
          ],
          "name": "stdout"
        }
      ]
    },
    {
      "cell_type": "markdown",
      "metadata": {
        "id": "bbNJEOlA-fSE"
      },
      "source": [
        "Konwersja z typu logicznego (bool) na typ tekstowy (str)."
      ]
    },
    {
      "cell_type": "code",
      "metadata": {
        "colab": {
          "base_uri": "https://localhost:8080/"
        },
        "id": "ZbFooJEE-WQ0",
        "outputId": "919eb082-0eda-45dd-a8fa-ff8b3a7b9e0e"
      },
      "source": [
        "bool_to_str = str(var_bool)\n",
        "\n",
        "print(type(var_bool))\n",
        "print(type(bool_to_str))\n",
        "\n",
        "print('-------------------')\n",
        "\n",
        "print(var_bool)\n",
        "print(bool_to_str)"
      ],
      "execution_count": null,
      "outputs": [
        {
          "output_type": "stream",
          "text": [
            "<class 'bool'>\n",
            "<class 'str'>\n",
            "-------------------\n",
            "True\n",
            "True\n"
          ],
          "name": "stdout"
        }
      ]
    },
    {
      "cell_type": "markdown",
      "metadata": {
        "id": "jC63Jk9_-yhd"
      },
      "source": [
        "## Wczytywanie danych od użytkownika (instrukcje wejścia)\n",
        "\n",
        "Jedną z najbardziej podstawowych instrukcji wejścia jest funkcja input, służy ona do wczytywania wartości wpisanych przez uzytkownika za pomocą klawiatury. Domyślnie wartości wpisane z kalwiatury są typu tesktowego (str).\n",
        "\n",
        "### Wczytywanie wartości tekstowych\n",
        "\n",
        "W celu wczytania wartości tekstowej wprowadzonej przez uzytkownika należy użyć funkcji input z przekazaną instrukcją dla użytkownika, wynik funckji powinien być podstawiony do zmiennej."
      ]
    },
    {
      "cell_type": "code",
      "metadata": {
        "colab": {
          "base_uri": "https://localhost:8080/"
        },
        "id": "Ef0JipEi-omD",
        "outputId": "90ca63e2-cbf4-46da-9367-06ceada13abf"
      },
      "source": [
        "input_value = input('Wprowadz tekst: ')\n",
        "\n",
        "print(input_value)"
      ],
      "execution_count": null,
      "outputs": [
        {
          "output_type": "stream",
          "text": [
            "Wprowadz tekst: test\n",
            "test\n"
          ],
          "name": "stdout"
        }
      ]
    },
    {
      "cell_type": "markdown",
      "metadata": {
        "id": "fgxmN6S__N7J"
      },
      "source": [
        "### Wczytywanie wartości całkowitoliczbowych\n",
        "\n",
        "W celu wczytania wartości wprowadzonej przez uzytkownika należy użyć funkcji input z przekazaną instrukcją dla użytkownika, wynik funckji powinien być podstawiony do zmiennej. Należy pamiętać, że każda wartośc wpisna z klawiatury jest typu tekstowego (str) zatem należy dokonać konwersji na typ całkowitoliczbowy (int). Muszą być wprowadzone same cyfry!\n"
      ]
    },
    {
      "cell_type": "code",
      "metadata": {
        "colab": {
          "base_uri": "https://localhost:8080/"
        },
        "id": "UxR6PkpA_FqH",
        "outputId": "41ed31af-81d2-4547-9c43-450215a656ad"
      },
      "source": [
        "input_int_value = int(input('Wprowadz liczbe: '))\n",
        "\n",
        "print(input_int_value)\n",
        "print(type(input_int_value))"
      ],
      "execution_count": null,
      "outputs": [
        {
          "output_type": "stream",
          "text": [
            "Wprowadz liczbe: 10\n",
            "10\n",
            "<class 'int'>\n"
          ],
          "name": "stdout"
        }
      ]
    },
    {
      "cell_type": "markdown",
      "metadata": {
        "id": "NZZonrLJ_sP8"
      },
      "source": [
        "### Wczytywanie wartości rzeczywistych\n",
        "\n",
        "W celu wczytania wartości wprowadzonej przez uzytkownika należy użyć funkcji input z przekazaną instrukcją dla użytkownika, wynik funckji powinien być podstawiony do zmiennej. Należy pamiętać, że każda wartośc wpisna z klawiatury jest typu tekstowego (str) zatem należy dokonać konwersji na typ rzeczywisty (float). Muszą być wprowadzone same cyfry i separator, jako .!\n"
      ]
    },
    {
      "cell_type": "code",
      "metadata": {
        "colab": {
          "base_uri": "https://localhost:8080/"
        },
        "id": "uf_6s5Yh_lQK",
        "outputId": "08209771-c26c-45b4-a5c1-311c513ba328"
      },
      "source": [
        "input_float_value = float(input('Wprowadz liczbe: '))\n",
        "\n",
        "print(input_float_value)\n",
        "print(type(input_float_value))"
      ],
      "execution_count": null,
      "outputs": [
        {
          "output_type": "stream",
          "text": [
            "Wprowadz liczbe: 10.1\n",
            "10.1\n",
            "<class 'float'>\n"
          ],
          "name": "stdout"
        }
      ]
    },
    {
      "cell_type": "markdown",
      "metadata": {
        "id": "huZqnye9AFeB"
      },
      "source": [
        "## Działania arytmetyczne\n",
        "\n",
        "W Pythonie istnieje możlwiość wykonywania działań arytymetycznych za pomocą operatorów. Wyrażenie arytymetyczne może skadać się z wielu operatorów.\n",
        "\n",
        "### Podstawowe operatory arytmetyczne\n",
        "\n",
        "- operator dodawania: +\n",
        "- operator odejmowania: -\n",
        "- operator mnożenia: *\n",
        "- operator dzielenia całowitego: //\n",
        "- operator modulo, reszta z dzielenia: %\n",
        "- operator potęgowania: **"
      ]
    },
    {
      "cell_type": "code",
      "metadata": {
        "colab": {
          "base_uri": "https://localhost:8080/"
        },
        "id": "cLM2LG8S_4tv",
        "outputId": "85b68e4f-d345-4630-ff26-1bdd6ee9e567"
      },
      "source": [
        "a = 10\n",
        "b = 20\n",
        "\n",
        "addition = a + b\n",
        "substraction = a - b\n",
        "multiplication = a * b\n",
        "division = a / b\n",
        "\n",
        "print(addition)\n",
        "print(substraction)\n",
        "print(multiplication)\n",
        "print(division)"
      ],
      "execution_count": null,
      "outputs": [
        {
          "output_type": "stream",
          "text": [
            "30\n",
            "-10\n",
            "200\n",
            "0.5\n"
          ],
          "name": "stdout"
        }
      ]
    },
    {
      "cell_type": "markdown",
      "metadata": {
        "id": "BMwvVbjmBELh"
      },
      "source": [
        "Należy pamiętać, że nie dzielimy przez 0."
      ]
    },
    {
      "cell_type": "code",
      "metadata": {
        "colab": {
          "base_uri": "https://localhost:8080/",
          "height": 164
        },
        "id": "Er8Pq85JA7La",
        "outputId": "0feca9f5-ee46-4231-ef80-a74a1de64eee"
      },
      "source": [
        "print(10 / 0)"
      ],
      "execution_count": null,
      "outputs": [
        {
          "output_type": "error",
          "ename": "ZeroDivisionError",
          "evalue": "ignored",
          "traceback": [
            "\u001b[0;31m---------------------------------------------------------------------------\u001b[0m",
            "\u001b[0;31mZeroDivisionError\u001b[0m                         Traceback (most recent call last)",
            "\u001b[0;32m<ipython-input-21-65966e0a195f>\u001b[0m in \u001b[0;36m<module>\u001b[0;34m()\u001b[0m\n\u001b[0;32m----> 1\u001b[0;31m \u001b[0mprint\u001b[0m\u001b[0;34m(\u001b[0m\u001b[0;36m10\u001b[0m \u001b[0;34m/\u001b[0m \u001b[0;36m0\u001b[0m\u001b[0;34m)\u001b[0m\u001b[0;34m\u001b[0m\u001b[0;34m\u001b[0m\u001b[0m\n\u001b[0m",
            "\u001b[0;31mZeroDivisionError\u001b[0m: division by zero"
          ]
        }
      ]
    },
    {
      "cell_type": "markdown",
      "metadata": {
        "id": "j-KEd8wsBIcq"
      },
      "source": [
        "### Dzielenie całkowite\r\n",
        "\r\n"
      ]
    },
    {
      "cell_type": "code",
      "metadata": {
        "colab": {
          "base_uri": "https://localhost:8080/"
        },
        "id": "gjknXYBHBG7_",
        "outputId": "a07548c6-e32a-457f-fb7f-b210399c2bda"
      },
      "source": [
        "print(10 // 3)"
      ],
      "execution_count": null,
      "outputs": [
        {
          "output_type": "stream",
          "text": [
            "3\n"
          ],
          "name": "stdout"
        }
      ]
    },
    {
      "cell_type": "markdown",
      "metadata": {
        "id": "yMjGT2lgBQw7"
      },
      "source": [
        "### Reszta z dzielenia"
      ]
    },
    {
      "cell_type": "code",
      "metadata": {
        "colab": {
          "base_uri": "https://localhost:8080/"
        },
        "id": "c3qMxV5gBP9L",
        "outputId": "e736cd85-d87f-4b41-884a-f71e3e6f5410"
      },
      "source": [
        "print(10 % 4)"
      ],
      "execution_count": null,
      "outputs": [
        {
          "output_type": "stream",
          "text": [
            "2\n"
          ],
          "name": "stdout"
        }
      ]
    },
    {
      "cell_type": "markdown",
      "metadata": {
        "id": "j-e5IU5BBXog"
      },
      "source": [
        "### Potęgowanie\n",
        "\n",
        "$$2^{10}$$"
      ]
    },
    {
      "cell_type": "code",
      "metadata": {
        "colab": {
          "base_uri": "https://localhost:8080/"
        },
        "id": "9toCEzfyBUd7",
        "outputId": "f90cf14c-9218-4f32-8e70-21a4bef68748"
      },
      "source": [
        "print(2 ** 10)"
      ],
      "execution_count": null,
      "outputs": [
        {
          "output_type": "stream",
          "text": [
            "1024\n"
          ],
          "name": "stdout"
        }
      ]
    },
    {
      "cell_type": "markdown",
      "metadata": {
        "id": "9l1zwJGiBbFt"
      },
      "source": [
        "### Pierwiastkowanie\n",
        "\n",
        "W celu wykonania operacji pierwiastkowania należy uzyć modułu math (moduł należy zaimportować).\n",
        "\n",
        "$$\\sqrt{10}$$"
      ]
    },
    {
      "cell_type": "code",
      "metadata": {
        "colab": {
          "base_uri": "https://localhost:8080/"
        },
        "id": "BX7KCfbBBaYF",
        "outputId": "ca319af8-46e4-466a-9588-4d5159cbbe99"
      },
      "source": [
        "import math\n",
        "\n",
        "print(math.sqrt(10))"
      ],
      "execution_count": null,
      "outputs": [
        {
          "output_type": "stream",
          "text": [
            "3.1622776601683795\n"
          ],
          "name": "stdout"
        }
      ]
    },
    {
      "cell_type": "markdown",
      "metadata": {
        "id": "fY4ni8yOCWHr"
      },
      "source": [
        "### Logarytmy\n",
        "\n",
        "Do wykonywania działań na logarytmach również niezbędny jest moduł math.\n",
        "\n",
        "$$log_{2}(5)$$"
      ]
    },
    {
      "cell_type": "code",
      "metadata": {
        "colab": {
          "base_uri": "https://localhost:8080/"
        },
        "id": "_xw-30luB8cA",
        "outputId": "8bc9037f-61f3-4ad4-9e31-afbe39c68802"
      },
      "source": [
        "import math\n",
        "\n",
        "print(math.log(5, 2))"
      ],
      "execution_count": null,
      "outputs": [
        {
          "output_type": "stream",
          "text": [
            "2.321928094887362\n"
          ],
          "name": "stdout"
        }
      ]
    },
    {
      "cell_type": "markdown",
      "metadata": {
        "id": "yJ-DOAYRCxpp"
      },
      "source": [
        "### Liczba e\r\n",
        "\r\n",
        "Wartośc liczby e jest dostępna w module math."
      ]
    },
    {
      "cell_type": "code",
      "metadata": {
        "colab": {
          "base_uri": "https://localhost:8080/"
        },
        "id": "VZhhMEsRCtWh",
        "outputId": "7f6e7d56-dd08-47d2-a5b5-84f77676c4bf"
      },
      "source": [
        "print(math.e)"
      ],
      "execution_count": null,
      "outputs": [
        {
          "output_type": "stream",
          "text": [
            "2.718281828459045\n"
          ],
          "name": "stdout"
        }
      ]
    },
    {
      "cell_type": "markdown",
      "metadata": {
        "id": "ex-u9CQmDDtP"
      },
      "source": [
        "### Liczba pi \r\n",
        "\r\n",
        "Wartośc liczby pi jest również dostępna w  module math.\r\n"
      ]
    },
    {
      "cell_type": "code",
      "metadata": {
        "colab": {
          "base_uri": "https://localhost:8080/"
        },
        "id": "kT1tOQLzDBAv",
        "outputId": "382422d7-f3b0-431f-d8ad-ac72be1bd73e"
      },
      "source": [
        "print(math.pi)"
      ],
      "execution_count": null,
      "outputs": [
        {
          "output_type": "stream",
          "text": [
            "3.141592653589793\n"
          ],
          "name": "stdout"
        }
      ]
    },
    {
      "cell_type": "markdown",
      "metadata": {
        "id": "4lQ8ht63Dill"
      },
      "source": [
        "### Trygonometria\n",
        "\n",
        "Wartości funkcji trygonometrycznych są dostępne w module math.\n",
        "\n",
        "sinus"
      ]
    },
    {
      "cell_type": "code",
      "metadata": {
        "colab": {
          "base_uri": "https://localhost:8080/"
        },
        "id": "GZ3itTF2DLbC",
        "outputId": "d3a0531e-e86e-4948-a992-e99b816fb420"
      },
      "source": [
        "print(math.sin(20))"
      ],
      "execution_count": null,
      "outputs": [
        {
          "output_type": "stream",
          "text": [
            "0.9129452507276277\n"
          ],
          "name": "stdout"
        }
      ]
    },
    {
      "cell_type": "markdown",
      "metadata": {
        "id": "kDEkIMRADnoQ"
      },
      "source": [
        "cosinus"
      ]
    },
    {
      "cell_type": "code",
      "metadata": {
        "colab": {
          "base_uri": "https://localhost:8080/"
        },
        "id": "h5270o1ZDm8d",
        "outputId": "43923264-0425-451e-925a-f3305c696b23"
      },
      "source": [
        "print(math.cos(30))"
      ],
      "execution_count": null,
      "outputs": [
        {
          "output_type": "stream",
          "text": [
            "0.15425144988758405\n"
          ],
          "name": "stdout"
        }
      ]
    },
    {
      "cell_type": "markdown",
      "metadata": {
        "id": "LLThkabJDvhC"
      },
      "source": [
        "tangens"
      ]
    },
    {
      "cell_type": "code",
      "metadata": {
        "colab": {
          "base_uri": "https://localhost:8080/"
        },
        "id": "BSy9wK5zDuNt",
        "outputId": "f000c9e2-712a-4b96-ff2d-0cd5ac8e2f93"
      },
      "source": [
        "print(math.tan(60))"
      ],
      "execution_count": null,
      "outputs": [
        {
          "output_type": "stream",
          "text": [
            "0.320040389379563\n"
          ],
          "name": "stdout"
        }
      ]
    },
    {
      "cell_type": "markdown",
      "metadata": {
        "id": "21EoC36eESLp"
      },
      "source": [
        "### Liczby zespolone\r\n",
        "\r\n",
        "Python umożliwia wynonywanie działań na liczbach zespolonych bez dodatkowych bibliotek.\r\n"
      ]
    },
    {
      "cell_type": "code",
      "metadata": {
        "colab": {
          "base_uri": "https://localhost:8080/"
        },
        "id": "O-w7OPLiD8rd",
        "outputId": "cad64699-eef8-4b07-c841-ee0811a3766b"
      },
      "source": [
        "z = 3 + 4j\n",
        "\n",
        "print(z)"
      ],
      "execution_count": null,
      "outputs": [
        {
          "output_type": "stream",
          "text": [
            "(3+4j)\n"
          ],
          "name": "stdout"
        }
      ]
    },
    {
      "cell_type": "markdown",
      "metadata": {
        "id": "6lnqWFvOEhC_"
      },
      "source": [
        "Wartość rzeczywista i urojona\r\n",
        "\r\n",
        "W łatwy sposób można wyodrębnić zarówno część rzeczywistą, jak i częśc urojoną liczby zespolonej.\r\n"
      ]
    },
    {
      "cell_type": "code",
      "metadata": {
        "colab": {
          "base_uri": "https://localhost:8080/"
        },
        "id": "XWX2emssEYgU",
        "outputId": "eddc781a-b766-4fbb-8217-2808550c9228"
      },
      "source": [
        "print(z.real)  # wartosc rzeczywista\n",
        "print(z.imag)  # wartosc urojona"
      ],
      "execution_count": null,
      "outputs": [
        {
          "output_type": "stream",
          "text": [
            "3.0\n",
            "4.0\n"
          ],
          "name": "stdout"
        }
      ]
    },
    {
      "cell_type": "markdown",
      "metadata": {
        "id": "3mQZTkYtEwNZ"
      },
      "source": [
        "Działania na liczbach zespolonych\r\n",
        "\r\n",
        "Na ciele liczb zespolonych można dokonywać działań."
      ]
    },
    {
      "cell_type": "code",
      "metadata": {
        "id": "nl36BpRtEtG0"
      },
      "source": [
        "z0 = 5 + 2j\n",
        "z1 = 9 + 6j"
      ],
      "execution_count": null,
      "outputs": []
    },
    {
      "cell_type": "code",
      "metadata": {
        "colab": {
          "base_uri": "https://localhost:8080/"
        },
        "id": "c5del4ZjE2Ml",
        "outputId": "5245f276-377f-4f23-e98e-5fcabc7fa630"
      },
      "source": [
        "print(z0 + z1)\n",
        "print(z0 / z1)\n",
        "print(z0 ** z1)"
      ],
      "execution_count": null,
      "outputs": [
        {
          "output_type": "stream",
          "text": [
            "(14+8j)\n",
            "(0.48717948717948717-0.10256410256410255j)\n",
            "(222731.96717255385+318191.17084672354j)\n"
          ],
          "name": "stdout"
        }
      ]
    },
    {
      "cell_type": "markdown",
      "metadata": {
        "id": "0CT9DeiGGQ6B"
      },
      "source": [
        "## Typy zmiennych\n",
        "\n",
        "W języku Python od wersji 3.5 można nadawać typy zmiennym\n",
        "\n",
        "- int - liczba całkowita\n",
        "- float - liczba rzeczywista\n",
        "- str - wartość tekstowa\n",
        "- bool - wartość logiczna.\n",
        "\n",
        "Typ może zostać nadany w momencie inicjalizacji  zmiennej."
      ]
    },
    {
      "cell_type": "code",
      "metadata": {
        "colab": {
          "base_uri": "https://localhost:8080/"
        },
        "id": "2TwPFoknE3__",
        "outputId": "155f6726-f7c2-464a-f33d-e82e16f29e3f"
      },
      "source": [
        "var_0: int = 10\n",
        "var_1: float = 20.0\n",
        "var_2: str = 'lorem ipsum'\n",
        "var_3: bool = False\n",
        "\n",
        "print(var_0)\n",
        "print(var_1)\n",
        "print(var_2)\n",
        "print(var_3)"
      ],
      "execution_count": null,
      "outputs": [
        {
          "output_type": "stream",
          "text": [
            "10\n",
            "20.0\n",
            "lorem ipsum\n",
            "False\n"
          ],
          "name": "stdout"
        }
      ]
    },
    {
      "cell_type": "markdown",
      "metadata": {
        "id": "JZ2OcsVRHk-m"
      },
      "source": [
        "Należy mieć na uwadze, że zadeklarowane typy zmiennych nie mają wpływu na ich faktyczną wartość."
      ]
    },
    {
      "cell_type": "code",
      "metadata": {
        "colab": {
          "base_uri": "https://localhost:8080/"
        },
        "id": "Zws5a6IPHY-i",
        "outputId": "31c6417e-8aff-4f7a-f193-95ac34ad46bb"
      },
      "source": [
        "var_any: str = 20\n",
        "\n",
        "print(var_any)\n",
        "print(type(var_any))\n",
        "print(isinstance(var_any, str))"
      ],
      "execution_count": null,
      "outputs": [
        {
          "output_type": "stream",
          "text": [
            "20\n",
            "<class 'int'>\n",
            "False\n"
          ],
          "name": "stdout"
        }
      ]
    },
    {
      "cell_type": "markdown",
      "metadata": {
        "id": "nhPN-QnIIj8R"
      },
      "source": [
        "## Operatory przyrostkowe\n",
        "\n",
        "\n",
        "\n",
        "Zamiast:"
      ]
    },
    {
      "cell_type": "code",
      "metadata": {
        "id": "-pZv8mcjH7JO"
      },
      "source": [
        "a: int = 10\n",
        "\n",
        "a = a + 9"
      ],
      "execution_count": null,
      "outputs": []
    },
    {
      "cell_type": "markdown",
      "metadata": {
        "id": "q2JsWLzZIs7R"
      },
      "source": [
        "piszemy:"
      ]
    },
    {
      "cell_type": "code",
      "metadata": {
        "id": "WEhQGJbPIsPZ"
      },
      "source": [
        "a += 9"
      ],
      "execution_count": null,
      "outputs": []
    },
    {
      "cell_type": "code",
      "metadata": {
        "id": "LOJhfXUUIvDJ"
      },
      "source": [
        "a *= 3"
      ],
      "execution_count": null,
      "outputs": []
    },
    {
      "cell_type": "code",
      "metadata": {
        "id": "CPzEex9RIxJX"
      },
      "source": [
        "a -= 10"
      ],
      "execution_count": null,
      "outputs": []
    },
    {
      "cell_type": "code",
      "metadata": {
        "id": "FSnFGJAZIyua"
      },
      "source": [
        "a /= 3"
      ],
      "execution_count": null,
      "outputs": []
    },
    {
      "cell_type": "markdown",
      "metadata": {
        "id": "OKZw3yYoI_p0"
      },
      "source": [
        "## Ciągi znaków i operacje na nich"
      ]
    },
    {
      "cell_type": "code",
      "metadata": {
        "id": "ebM6YtQQI03o"
      },
      "source": [
        "var_str: str = 'to jest tekst!'"
      ],
      "execution_count": null,
      "outputs": []
    },
    {
      "cell_type": "markdown",
      "metadata": {
        "id": "nMizxRslJpwD"
      },
      "source": [
        "### Długość tekstu\r\n",
        "\r\n",
        "W celu sprawdzenia dlugości tekstu należy użyć funkcji len()."
      ]
    },
    {
      "cell_type": "code",
      "metadata": {
        "colab": {
          "base_uri": "https://localhost:8080/"
        },
        "id": "jwe5F74IJlMy",
        "outputId": "2fdfe46b-c209-432e-b9b8-030a0088f3d8"
      },
      "source": [
        "var_str_len: int = len(var_str)\n",
        "\n",
        "print(var_str_len)"
      ],
      "execution_count": null,
      "outputs": [
        {
          "output_type": "stream",
          "text": [
            "14\n"
          ],
          "name": "stdout"
        }
      ]
    },
    {
      "cell_type": "markdown",
      "metadata": {
        "id": "Eu_KtndiJ4cQ"
      },
      "source": [
        "### Odwoływanie się do znaków na konkretnych pozycjach\n",
        "\n",
        "Do celów odwołania się do konkretnej pozycji nalezy uzyć [].\n",
        "Należy pamiętać, że pierwszy znak jest na pozycji 0.\n",
        "\n",
        "Pierwszy znak:"
      ]
    },
    {
      "cell_type": "code",
      "metadata": {
        "colab": {
          "base_uri": "https://localhost:8080/"
        },
        "id": "7K-fwye7Jw8Z",
        "outputId": "f3fc270e-d32b-4057-ce36-d845f4c170c1"
      },
      "source": [
        "print(var_str[0])"
      ],
      "execution_count": null,
      "outputs": [
        {
          "output_type": "stream",
          "text": [
            "t\n"
          ],
          "name": "stdout"
        }
      ]
    },
    {
      "cell_type": "markdown",
      "metadata": {
        "id": "PgX9WPePKA-g"
      },
      "source": [
        "Ostatni znak:"
      ]
    },
    {
      "cell_type": "code",
      "metadata": {
        "colab": {
          "base_uri": "https://localhost:8080/"
        },
        "id": "IBiNwQYNJ__n",
        "outputId": "5bedcc17-9a6e-434b-d425-63e0d724f558"
      },
      "source": [
        "print(var_str[-1])"
      ],
      "execution_count": null,
      "outputs": [
        {
          "output_type": "stream",
          "text": [
            "!\n"
          ],
          "name": "stdout"
        }
      ]
    },
    {
      "cell_type": "markdown",
      "metadata": {
        "id": "z0pU_NdgKFX0"
      },
      "source": [
        "Przedostatni znak:"
      ]
    },
    {
      "cell_type": "code",
      "metadata": {
        "colab": {
          "base_uri": "https://localhost:8080/"
        },
        "id": "bFM8O4PyKEbE",
        "outputId": "3c77b5c4-8d51-4243-bed3-c567070dd513"
      },
      "source": [
        "print(var_str[-2])"
      ],
      "execution_count": null,
      "outputs": [
        {
          "output_type": "stream",
          "text": [
            "t\n"
          ],
          "name": "stdout"
        }
      ]
    },
    {
      "cell_type": "markdown",
      "metadata": {
        "id": "Kpbtjwt8KRP-"
      },
      "source": [
        "Można również wyświetlić fragment tekstu.\r\n",
        "\r\n",
        "Fragment tekstu na pozycjach od 3 do 6."
      ]
    },
    {
      "cell_type": "code",
      "metadata": {
        "colab": {
          "base_uri": "https://localhost:8080/"
        },
        "id": "7vZsNf5lKKNu",
        "outputId": "99495db6-f447-412c-b0df-3c3cd3067fe0"
      },
      "source": [
        "print(var_str[3:7])"
      ],
      "execution_count": null,
      "outputs": [
        {
          "output_type": "stream",
          "text": [
            "jest\n"
          ],
          "name": "stdout"
        }
      ]
    },
    {
      "cell_type": "markdown",
      "metadata": {
        "id": "NkPHczFaKl_Y"
      },
      "source": [
        "### Zmiana wielkości znaków\n",
        "\n",
        "Python umożliwia zmianę małych liter na wielkie, w tym celu nalezy użyć metody upper()."
      ]
    },
    {
      "cell_type": "code",
      "metadata": {
        "colab": {
          "base_uri": "https://localhost:8080/"
        },
        "id": "D-m3QUfDKXN7",
        "outputId": "16436277-2088-402f-b343-d2093181eee9"
      },
      "source": [
        "var_str_low: str = 'to sa male litery'\n",
        "\n",
        "print(var_str_low)\n",
        "print(var_str_low.upper())"
      ],
      "execution_count": null,
      "outputs": [
        {
          "output_type": "stream",
          "text": [
            "to sa male litery\n",
            "TO SA MALE LITERY\n"
          ],
          "name": "stdout"
        }
      ]
    },
    {
      "cell_type": "markdown",
      "metadata": {
        "id": "DDB3vpO8K8ld"
      },
      "source": [
        "Istnieje również możliwośc zmiany wielkich liter na małe, w tym celu nalezy użyć metody lower()."
      ]
    },
    {
      "cell_type": "code",
      "metadata": {
        "colab": {
          "base_uri": "https://localhost:8080/"
        },
        "id": "Pswv0yNSK6xh",
        "outputId": "ee80ac0a-e991-45d3-e560-444e07d740b9"
      },
      "source": [
        "var_str_up: str = 'TO SA WIELKIE LITERY'\n",
        "\n",
        "print(var_str_up)\n",
        "print(var_str_up.lower())"
      ],
      "execution_count": null,
      "outputs": [
        {
          "output_type": "stream",
          "text": [
            "TO SA WIELKIE LITERY\n",
            "to sa wielkie litery\n"
          ],
          "name": "stdout"
        }
      ]
    },
    {
      "cell_type": "markdown",
      "metadata": {
        "id": "1uBMYdHsLW1b"
      },
      "source": [
        "Można rówież zmienić wielkości pierwszych liter każdego słowa na wielką literę - metoda title()."
      ]
    },
    {
      "cell_type": "code",
      "metadata": {
        "colab": {
          "base_uri": "https://localhost:8080/"
        },
        "id": "i-uakq8GLF4z",
        "outputId": "4374c3b0-689f-4ead-d617-2fa4f7f18d27"
      },
      "source": [
        "var_str: str = 'to jest prosty tekst'\n",
        "\n",
        "print(var_str)\n",
        "print(var_str.title())"
      ],
      "execution_count": null,
      "outputs": [
        {
          "output_type": "stream",
          "text": [
            "to jest prosty tekst\n",
            "To Jest Prosty Tekst\n"
          ],
          "name": "stdout"
        }
      ]
    },
    {
      "cell_type": "markdown",
      "metadata": {
        "id": "lkSo9A17MI5O"
      },
      "source": [
        "### Interpolacja tekstów (f-string)\n",
        "\n",
        "Dzięki interpolacji tektów można w łatwy sposób umieszczać różne wartości w tekscie."
      ]
    },
    {
      "cell_type": "code",
      "metadata": {
        "colab": {
          "base_uri": "https://localhost:8080/"
        },
        "id": "yOke1A-4L8xj",
        "outputId": "4f9bd192-c1fc-4400-b748-68c1028e76bf"
      },
      "source": [
        "lines_count: int = 3200\n",
        "space_avg: float = 3.5\n",
        "\n",
        "summary: str = f'Objetosc kodu wynosi {lines_count} linii, gdzie na kazda linie przypada srednio {space_avg} spacji'\n",
        "print(summary)"
      ],
      "execution_count": null,
      "outputs": [
        {
          "output_type": "stream",
          "text": [
            "Objetosc kodu wynosi 3200 linii, gdzie na kazda linie przypada srednio 3.5 spacji\n"
          ],
          "name": "stdout"
        }
      ]
    },
    {
      "cell_type": "markdown",
      "metadata": {
        "id": "7nJwrAM_NidZ"
      },
      "source": [
        "## Zadania\n",
        "\n",
        "Przy rozwiązywaniu zadań należy jawnie deklarować typy zmiennych\n",
        "\n",
        "1. Wczytać od użytkownika wartość typu całkowitego (x), a następnie sprawdzić czy jest podzielna przez wartość całkowitą (y), również wczytaną od użytkownika\n",
        "2. Obliczyć wartości wyrażeń wczytując zmienne od użytkownika, a następnie wyświetlić wyniki w następującym formacie \"wartosc wyrazenia [nr przykladu] dla zmiennych x=[wartosc zmiennej wczytana od uzytkownika], y=[wartosc zmiennej wczytana od uzytkownika] wynosi [wynik wyrazenia]\":\n",
        "  - $$ (x + \\frac{y}{z}) ^ {x - z} $$\n",
        "  - $$ \\frac{\\sqrt{x} - \\sqrt[z]{x}}{\\sqrt[z + 1]{x} - \\sqrt[z + 2]{x}} $$\n",
        "  - $$ \\frac{\\pi}{x} - arctg(y) $$\n",
        "  - $$ \\frac{(\\sqrt[3]{x} - y) ^ {\\pi}}{\\frac{z^y}{e ^ {10}}} $$\n",
        "  - $$\\frac{sin(x) + cos(y)}{sin(x) + cos(y)}$$\n",
        "  - $$ log_y(x) $$\n",
        "3. Dla wyrażenia $$ z = \\sqrt{-1} $$ wyświetlić część rzeczywistą i urojoną\n",
        "4. Wyświetlić listę poznanych wartości trygonometrycznych dla kątów: 15, 30, 45, 60 stopni\n",
        "5. Dla koła o promieniu wczytanym od użytkownika obliczyć oraz wyświetlić pole i obwód\n",
        "6. Dla kuli o promieniu wczytanym od użytkownika obliczyć oraz wyświetlić pole powierzchni i objętość\n",
        "7. Dla równania kwadratowego o postaci $$ ax^2 + bx + c = 0 $$ znaleźć miejsca zerowe wczytując wartości a, b, c pobrane od użytkownika\n",
        "8. Wyświetlić długość losowego tekstu wygenerowanego przy użyciu biblioteki Faker\n",
        "9. Wyświetlić przy użyciu biblioteki wikipedia podsumowanie artykułu znajdującego się pod hasłem \"Olsztyn\", a następnie zamienić cały pobrany tekst na wielkie litery i wyświetlić\n",
        "10. Wyświetlić przy użyciu biblioteki wikipedia 100 ostatnich znaków treści artykułu znajdującego się pod hasłem \"Guido van Rossum\", a następnie zamienić w każdym słowie pierwsze litery na wielki i wyświetlić wynik\n",
        "  "
      ]
    },
    {
      "cell_type": "code",
      "metadata": {
        "id": "siabNy9mMmi4"
      },
      "source": [
        ""
      ],
      "execution_count": null,
      "outputs": []
    }
  ]
}
